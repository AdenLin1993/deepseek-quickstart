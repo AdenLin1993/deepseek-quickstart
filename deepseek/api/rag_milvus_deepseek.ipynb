{
 "cells": [
  {
   "cell_type": "markdown",
   "id": "20549885",
   "metadata": {},
   "source": [
    "# 使用 Milvus 和 DeepSeek 构建 RAG\n",
    "\n",
    "DeepSeek 帮助开发者使用高性能语言模型构建和扩展 AI 应用。它提供高效的推理、灵活的 API 以及先进的专家混合 (MoE) 架构，用于强大的推理和检索任务。\n",
    "\n",
    "在本教程中，我们将展示如何使用 Milvus 和 DeepSeek 构建一个检索增强生成 (RAG) 管道。"
   ]
  },
  {
   "cell_type": "markdown",
   "id": "7394c701",
   "metadata": {},
   "source": [
    "## 准备工作"
   ]
  },
  {
   "cell_type": "markdown",
   "id": "89103a1e",
   "metadata": {},
   "source": [
    "### 依赖与环境"
   ]
  },
  {
   "cell_type": "code",
   "execution_count": 1,
   "id": "9c18d7b4",
   "metadata": {},
   "outputs": [
    {
     "name": "stdout",
     "output_type": "stream",
     "text": [
      "Requirement already satisfied: pymilvus==2.5.10 in /home/adong/deepseek-quickstart/deepseek-quickstart/lib/python3.13/site-packages (from pymilvus[model]==2.5.10) (2.5.10)\n",
      "Requirement already satisfied: openai==1.82.0 in /home/adong/deepseek-quickstart/deepseek-quickstart/lib/python3.13/site-packages (1.82.0)\n",
      "Requirement already satisfied: requests==2.32.3 in /home/adong/deepseek-quickstart/deepseek-quickstart/lib/python3.13/site-packages (2.32.3)\n",
      "Requirement already satisfied: tqdm==4.67.1 in /home/adong/deepseek-quickstart/deepseek-quickstart/lib/python3.13/site-packages (4.67.1)\n",
      "Requirement already satisfied: torch==2.7.0 in /home/adong/deepseek-quickstart/deepseek-quickstart/lib/python3.13/site-packages (2.7.0)\n",
      "Requirement already satisfied: setuptools>69 in /home/adong/deepseek-quickstart/deepseek-quickstart/lib/python3.13/site-packages (from pymilvus==2.5.10->pymilvus[model]==2.5.10) (80.9.0)\n",
      "Requirement already satisfied: grpcio<=1.67.1,>=1.49.1 in /home/adong/deepseek-quickstart/deepseek-quickstart/lib/python3.13/site-packages (from pymilvus==2.5.10->pymilvus[model]==2.5.10) (1.67.1)\n",
      "Requirement already satisfied: protobuf>=3.20.0 in /home/adong/deepseek-quickstart/deepseek-quickstart/lib/python3.13/site-packages (from pymilvus==2.5.10->pymilvus[model]==2.5.10) (6.32.0)\n",
      "Requirement already satisfied: python-dotenv<2.0.0,>=1.0.1 in /home/adong/deepseek-quickstart/deepseek-quickstart/lib/python3.13/site-packages (from pymilvus==2.5.10->pymilvus[model]==2.5.10) (1.1.1)\n",
      "Requirement already satisfied: ujson>=2.0.0 in /home/adong/deepseek-quickstart/deepseek-quickstart/lib/python3.13/site-packages (from pymilvus==2.5.10->pymilvus[model]==2.5.10) (5.10.0)\n",
      "Requirement already satisfied: pandas>=1.2.4 in /home/adong/deepseek-quickstart/deepseek-quickstart/lib/python3.13/site-packages (from pymilvus==2.5.10->pymilvus[model]==2.5.10) (2.3.1)\n",
      "Requirement already satisfied: milvus-lite>=2.4.0 in /home/adong/deepseek-quickstart/deepseek-quickstart/lib/python3.13/site-packages (from pymilvus==2.5.10->pymilvus[model]==2.5.10) (2.5.1)\n",
      "Requirement already satisfied: anyio<5,>=3.5.0 in /home/adong/deepseek-quickstart/deepseek-quickstart/lib/python3.13/site-packages (from openai==1.82.0) (4.10.0)\n",
      "Requirement already satisfied: distro<2,>=1.7.0 in /home/adong/deepseek-quickstart/deepseek-quickstart/lib/python3.13/site-packages (from openai==1.82.0) (1.9.0)\n",
      "Requirement already satisfied: httpx<1,>=0.23.0 in /home/adong/deepseek-quickstart/deepseek-quickstart/lib/python3.13/site-packages (from openai==1.82.0) (0.28.1)\n",
      "Requirement already satisfied: jiter<1,>=0.4.0 in /home/adong/deepseek-quickstart/deepseek-quickstart/lib/python3.13/site-packages (from openai==1.82.0) (0.10.0)\n",
      "Requirement already satisfied: pydantic<3,>=1.9.0 in /home/adong/deepseek-quickstart/deepseek-quickstart/lib/python3.13/site-packages (from openai==1.82.0) (2.11.7)\n",
      "Requirement already satisfied: sniffio in /home/adong/deepseek-quickstart/deepseek-quickstart/lib/python3.13/site-packages (from openai==1.82.0) (1.3.1)\n",
      "Requirement already satisfied: typing-extensions<5,>=4.11 in /home/adong/deepseek-quickstart/deepseek-quickstart/lib/python3.13/site-packages (from openai==1.82.0) (4.14.1)\n",
      "Requirement already satisfied: charset-normalizer<4,>=2 in /home/adong/deepseek-quickstart/deepseek-quickstart/lib/python3.13/site-packages (from requests==2.32.3) (3.4.3)\n",
      "Requirement already satisfied: idna<4,>=2.5 in /home/adong/deepseek-quickstart/deepseek-quickstart/lib/python3.13/site-packages (from requests==2.32.3) (3.10)\n",
      "Requirement already satisfied: urllib3<3,>=1.21.1 in /home/adong/deepseek-quickstart/deepseek-quickstart/lib/python3.13/site-packages (from requests==2.32.3) (2.5.0)\n",
      "Requirement already satisfied: certifi>=2017.4.17 in /home/adong/deepseek-quickstart/deepseek-quickstart/lib/python3.13/site-packages (from requests==2.32.3) (2025.8.3)\n",
      "Requirement already satisfied: filelock in /home/adong/deepseek-quickstart/deepseek-quickstart/lib/python3.13/site-packages (from torch==2.7.0) (3.19.1)\n",
      "Requirement already satisfied: sympy>=1.13.3 in /home/adong/deepseek-quickstart/deepseek-quickstart/lib/python3.13/site-packages (from torch==2.7.0) (1.14.0)\n",
      "Requirement already satisfied: networkx in /home/adong/deepseek-quickstart/deepseek-quickstart/lib/python3.13/site-packages (from torch==2.7.0) (3.5)\n",
      "Requirement already satisfied: jinja2 in /home/adong/deepseek-quickstart/deepseek-quickstart/lib/python3.13/site-packages (from torch==2.7.0) (3.1.6)\n",
      "Requirement already satisfied: fsspec in /home/adong/deepseek-quickstart/deepseek-quickstart/lib/python3.13/site-packages (from torch==2.7.0) (2025.7.0)\n",
      "Requirement already satisfied: nvidia-cuda-nvrtc-cu12==12.6.77 in /home/adong/deepseek-quickstart/deepseek-quickstart/lib/python3.13/site-packages (from torch==2.7.0) (12.6.77)\n",
      "Requirement already satisfied: nvidia-cuda-runtime-cu12==12.6.77 in /home/adong/deepseek-quickstart/deepseek-quickstart/lib/python3.13/site-packages (from torch==2.7.0) (12.6.77)\n",
      "Requirement already satisfied: nvidia-cuda-cupti-cu12==12.6.80 in /home/adong/deepseek-quickstart/deepseek-quickstart/lib/python3.13/site-packages (from torch==2.7.0) (12.6.80)\n",
      "Requirement already satisfied: nvidia-cudnn-cu12==9.5.1.17 in /home/adong/deepseek-quickstart/deepseek-quickstart/lib/python3.13/site-packages (from torch==2.7.0) (9.5.1.17)\n",
      "Requirement already satisfied: nvidia-cublas-cu12==12.6.4.1 in /home/adong/deepseek-quickstart/deepseek-quickstart/lib/python3.13/site-packages (from torch==2.7.0) (12.6.4.1)\n",
      "Requirement already satisfied: nvidia-cufft-cu12==11.3.0.4 in /home/adong/deepseek-quickstart/deepseek-quickstart/lib/python3.13/site-packages (from torch==2.7.0) (11.3.0.4)\n",
      "Requirement already satisfied: nvidia-curand-cu12==10.3.7.77 in /home/adong/deepseek-quickstart/deepseek-quickstart/lib/python3.13/site-packages (from torch==2.7.0) (10.3.7.77)\n",
      "Requirement already satisfied: nvidia-cusolver-cu12==11.7.1.2 in /home/adong/deepseek-quickstart/deepseek-quickstart/lib/python3.13/site-packages (from torch==2.7.0) (11.7.1.2)\n",
      "Requirement already satisfied: nvidia-cusparse-cu12==12.5.4.2 in /home/adong/deepseek-quickstart/deepseek-quickstart/lib/python3.13/site-packages (from torch==2.7.0) (12.5.4.2)\n",
      "Requirement already satisfied: nvidia-cusparselt-cu12==0.6.3 in /home/adong/deepseek-quickstart/deepseek-quickstart/lib/python3.13/site-packages (from torch==2.7.0) (0.6.3)\n",
      "Requirement already satisfied: nvidia-nccl-cu12==2.26.2 in /home/adong/deepseek-quickstart/deepseek-quickstart/lib/python3.13/site-packages (from torch==2.7.0) (2.26.2)\n",
      "Requirement already satisfied: nvidia-nvtx-cu12==12.6.77 in /home/adong/deepseek-quickstart/deepseek-quickstart/lib/python3.13/site-packages (from torch==2.7.0) (12.6.77)\n",
      "Requirement already satisfied: nvidia-nvjitlink-cu12==12.6.85 in /home/adong/deepseek-quickstart/deepseek-quickstart/lib/python3.13/site-packages (from torch==2.7.0) (12.6.85)\n",
      "Requirement already satisfied: nvidia-cufile-cu12==1.11.1.6 in /home/adong/deepseek-quickstart/deepseek-quickstart/lib/python3.13/site-packages (from torch==2.7.0) (1.11.1.6)\n",
      "Requirement already satisfied: triton==3.3.0 in /home/adong/deepseek-quickstart/deepseek-quickstart/lib/python3.13/site-packages (from torch==2.7.0) (3.3.0)\n",
      "Requirement already satisfied: pymilvus.model>=0.3.0 in /home/adong/deepseek-quickstart/deepseek-quickstart/lib/python3.13/site-packages (from pymilvus[model]==2.5.10) (0.3.2)\n",
      "Requirement already satisfied: httpcore==1.* in /home/adong/deepseek-quickstart/deepseek-quickstart/lib/python3.13/site-packages (from httpx<1,>=0.23.0->openai==1.82.0) (1.0.9)\n",
      "Requirement already satisfied: h11>=0.16 in /home/adong/deepseek-quickstart/deepseek-quickstart/lib/python3.13/site-packages (from httpcore==1.*->httpx<1,>=0.23.0->openai==1.82.0) (0.16.0)\n",
      "Requirement already satisfied: annotated-types>=0.6.0 in /home/adong/deepseek-quickstart/deepseek-quickstart/lib/python3.13/site-packages (from pydantic<3,>=1.9.0->openai==1.82.0) (0.7.0)\n",
      "Requirement already satisfied: pydantic-core==2.33.2 in /home/adong/deepseek-quickstart/deepseek-quickstart/lib/python3.13/site-packages (from pydantic<3,>=1.9.0->openai==1.82.0) (2.33.2)\n",
      "Requirement already satisfied: typing-inspection>=0.4.0 in /home/adong/deepseek-quickstart/deepseek-quickstart/lib/python3.13/site-packages (from pydantic<3,>=1.9.0->openai==1.82.0) (0.4.1)\n",
      "Requirement already satisfied: numpy>=1.26.0 in /home/adong/deepseek-quickstart/deepseek-quickstart/lib/python3.13/site-packages (from pandas>=1.2.4->pymilvus==2.5.10->pymilvus[model]==2.5.10) (2.3.2)\n",
      "Requirement already satisfied: python-dateutil>=2.8.2 in /home/adong/deepseek-quickstart/deepseek-quickstart/lib/python3.13/site-packages (from pandas>=1.2.4->pymilvus==2.5.10->pymilvus[model]==2.5.10) (2.9.0.post0)\n",
      "Requirement already satisfied: pytz>=2020.1 in /home/adong/deepseek-quickstart/deepseek-quickstart/lib/python3.13/site-packages (from pandas>=1.2.4->pymilvus==2.5.10->pymilvus[model]==2.5.10) (2025.2)\n",
      "Requirement already satisfied: tzdata>=2022.7 in /home/adong/deepseek-quickstart/deepseek-quickstart/lib/python3.13/site-packages (from pandas>=1.2.4->pymilvus==2.5.10->pymilvus[model]==2.5.10) (2025.2)\n",
      "Requirement already satisfied: transformers>=4.36.0 in /home/adong/deepseek-quickstart/deepseek-quickstart/lib/python3.13/site-packages (from pymilvus.model>=0.3.0->pymilvus[model]==2.5.10) (4.55.2)\n",
      "Requirement already satisfied: onnxruntime in /home/adong/deepseek-quickstart/deepseek-quickstart/lib/python3.13/site-packages (from pymilvus.model>=0.3.0->pymilvus[model]==2.5.10) (1.22.1)\n",
      "Requirement already satisfied: scipy>=1.10.0 in /home/adong/deepseek-quickstart/deepseek-quickstart/lib/python3.13/site-packages (from pymilvus.model>=0.3.0->pymilvus[model]==2.5.10) (1.16.1)\n",
      "Requirement already satisfied: six>=1.5 in /home/adong/deepseek-quickstart/deepseek-quickstart/lib/python3.13/site-packages (from python-dateutil>=2.8.2->pandas>=1.2.4->pymilvus==2.5.10->pymilvus[model]==2.5.10) (1.17.0)\n",
      "Requirement already satisfied: mpmath<1.4,>=1.1.0 in /home/adong/deepseek-quickstart/deepseek-quickstart/lib/python3.13/site-packages (from sympy>=1.13.3->torch==2.7.0) (1.3.0)\n",
      "Requirement already satisfied: huggingface-hub<1.0,>=0.34.0 in /home/adong/deepseek-quickstart/deepseek-quickstart/lib/python3.13/site-packages (from transformers>=4.36.0->pymilvus.model>=0.3.0->pymilvus[model]==2.5.10) (0.34.4)\n",
      "Requirement already satisfied: packaging>=20.0 in /home/adong/deepseek-quickstart/deepseek-quickstart/lib/python3.13/site-packages (from transformers>=4.36.0->pymilvus.model>=0.3.0->pymilvus[model]==2.5.10) (25.0)\n",
      "Requirement already satisfied: pyyaml>=5.1 in /home/adong/deepseek-quickstart/deepseek-quickstart/lib/python3.13/site-packages (from transformers>=4.36.0->pymilvus.model>=0.3.0->pymilvus[model]==2.5.10) (6.0.2)\n",
      "Requirement already satisfied: regex!=2019.12.17 in /home/adong/deepseek-quickstart/deepseek-quickstart/lib/python3.13/site-packages (from transformers>=4.36.0->pymilvus.model>=0.3.0->pymilvus[model]==2.5.10) (2025.7.34)\n",
      "Requirement already satisfied: tokenizers<0.22,>=0.21 in /home/adong/deepseek-quickstart/deepseek-quickstart/lib/python3.13/site-packages (from transformers>=4.36.0->pymilvus.model>=0.3.0->pymilvus[model]==2.5.10) (0.21.4)\n",
      "Requirement already satisfied: safetensors>=0.4.3 in /home/adong/deepseek-quickstart/deepseek-quickstart/lib/python3.13/site-packages (from transformers>=4.36.0->pymilvus.model>=0.3.0->pymilvus[model]==2.5.10) (0.6.2)\n",
      "Requirement already satisfied: hf-xet<2.0.0,>=1.1.3 in /home/adong/deepseek-quickstart/deepseek-quickstart/lib/python3.13/site-packages (from huggingface-hub<1.0,>=0.34.0->transformers>=4.36.0->pymilvus.model>=0.3.0->pymilvus[model]==2.5.10) (1.1.8)\n",
      "Requirement already satisfied: MarkupSafe>=2.0 in /home/adong/deepseek-quickstart/deepseek-quickstart/lib/python3.13/site-packages (from jinja2->torch==2.7.0) (3.0.2)\n",
      "Requirement already satisfied: coloredlogs in /home/adong/deepseek-quickstart/deepseek-quickstart/lib/python3.13/site-packages (from onnxruntime->pymilvus.model>=0.3.0->pymilvus[model]==2.5.10) (15.0.1)\n",
      "Requirement already satisfied: flatbuffers in /home/adong/deepseek-quickstart/deepseek-quickstart/lib/python3.13/site-packages (from onnxruntime->pymilvus.model>=0.3.0->pymilvus[model]==2.5.10) (25.2.10)\n",
      "Requirement already satisfied: humanfriendly>=9.1 in /home/adong/deepseek-quickstart/deepseek-quickstart/lib/python3.13/site-packages (from coloredlogs->onnxruntime->pymilvus.model>=0.3.0->pymilvus[model]==2.5.10) (10.0)\n"
     ]
    }
   ],
   "source": [
    "!pip install \"pymilvus[model]==2.5.10\" openai==1.82.0 requests==2.32.3 tqdm==4.67.1 torch==2.7.0"
   ]
  },
  {
   "cell_type": "markdown",
   "id": "1b3c0999-d670-41a9-afbd-d8a020fe1631",
   "metadata": {},
   "source": [
    "---"
   ]
  },
  {
   "cell_type": "code",
   "execution_count": 2,
   "id": "375ad823",
   "metadata": {},
   "outputs": [],
   "source": [
    "import os\n",
    "\n",
    "# 从环境变量获取 DeepSeek API Key\n",
    "api_key = os.getenv(\"DEEPSEEK_API_KEY\")"
   ]
  },
  {
   "cell_type": "markdown",
   "id": "db44bb26",
   "metadata": {},
   "source": [
    "### 准备数据"
   ]
  },
  {
   "cell_type": "markdown",
   "id": "25f92a95",
   "metadata": {},
   "source": [
    "我们使用 Milvus 文档 2.4.x 中的 FAQ 页面作为我们 RAG 中的私有知识库，这是一个简单 RAG 管道的良好数据源。"
   ]
  },
  {
   "cell_type": "markdown",
   "id": "a1a8b9e2",
   "metadata": {},
   "source": [
    "下载 zip 文件并将文档解压到 `milvus_docs` 文件夹。\n",
    "\n",
    "**建议在命令行执行下面命令**"
   ]
  },
  {
   "cell_type": "code",
   "execution_count": 18,
   "id": "a81fa031",
   "metadata": {},
   "outputs": [],
   "source": [
    "#!wget https://github.com/milvus-io/milvus-docs/releases/download/v2.4.6-preview/milvus_docs_2.4.x_en.zip\n",
    "#!unzip -q milvus_docs_2.4.x_en.zip -d milvus_docs"
   ]
  },
  {
   "cell_type": "markdown",
   "id": "d1198466",
   "metadata": {},
   "source": [
    "我们从 `milvus_docs/en/faq` 文件夹加载所有 markdown 文件。对于每个文档，我们简单地使用 \"# \" 来分割文件中的内容，这样可以大致分离出 markdown 文件中每个主要部分的内容。"
   ]
  },
  {
   "cell_type": "code",
   "execution_count": 34,
   "id": "c9035a5f",
   "metadata": {},
   "outputs": [],
   "source": [
    "from glob import glob\n",
    "\n",
    "text_lines = []\n",
    "\n",
    "for file_path in glob(\"milvus_docs/en/faq/*.md\", recursive=True):\n",
    "    with open(file_path, \"r\") as file:\n",
    "        file_text = file.read()\n",
    "    text_lines += file_text.split(\"# \")\n",
    "# 增加民法典知识库\n",
    "with open('mfd.md', \"r\") as file:\n",
    "        file_text = file.read()\n",
    "text_lines += file_text.split(\"# \")"
   ]
  },
  {
   "cell_type": "code",
   "execution_count": 35,
   "id": "7d7e40df",
   "metadata": {},
   "outputs": [
    {
     "data": {
      "text/plain": [
       "['---\\nid: operational_faq.md\\nsummary: Find answers to commonly asked questions about operations in Milvus.\\ntitle: Operational FAQ\\n---\\n\\n',\n",
       " 'Operational FAQ\\n\\n<!-- TOC -->\\n\\n\\n<!-- /TOC -->\\n\\n###',\n",
       " 'What if I failed to pull the Milvus Docker image from Docker Hub?\\n\\nIf you failed to pull the Milvus Docker image from Docker Hub, try adding other registry mirrors. \\n\\nUsers from Mainland China can add the URL \"https://registry.docker-cn.com\" to the registry-mirrors array in **/etc.docker/daemon.json**.\\n\\n```\\n{\\n  \"registry-mirrors\": [\"https://registry.docker-cn.com\"]\\n}\\n```\\n\\n###',\n",
       " 'Is Docker the only way to install and run Milvus?\\n\\nDocker is an efficient way to deploy Milvus, but not the only way. You can also deploy Milvus from source code. This requires Ubuntu (18.04 or higher) or CentOS (7 or higher). See [Building Milvus from Source Code](https://github.com/milvus-io/milvus#build-milvus-from-source-code) for more information.\\n\\n###',\n",
       " 'What are the main factors affecting recall?\\n\\nRecall is affected mainly by index type and search parameters.\\n\\nFor FLAT index, Milvus takes an exhaustive scan within a collection, with a 100% return.\\n\\nFor IVF indexes, the nprobe parameter determines the scope of a search within the collection. Increasing nprobe increases the proportion of vectors searched and recall, but diminishes query performance.\\n\\nFor HNSW index, the ef parameter determines the breadth of the graph search. Increasing ef increases the number of points searched on the graph and recall, but diminishes query performance.\\n\\nFor more information, see [Vector Indexing](https://www.zilliz.com/blog/Accelerating-Similarity-Search-on-Really-Big-Data-with-Vector-Indexing).\\n\\n###',\n",
       " 'Why did my changes to the configuration files not take effect?\\n\\nMilvus does not support modification to configuration files during runtime. You must restart Milvus Docker for configuration file changes to take effect.\\n\\n###',\n",
       " 'How do I know if Milvus has started successfully?\\n\\nIf Milvus is started using Docker Compose, run `docker ps` to observe how many Docker containers are running and check if Milvus services started correctly.\\n\\nFor Milvus standalone, you should be able to observe at least three running Docker containers, one being the Milvus service and the other two being etcd management and storage service. For more information, see [Installing Milvus Standalone](install_standalone-docker.md).\\n\\n###',\n",
       " 'Why is the time in the log files different from the system time?\\n\\nThe time difference is usually due to the fact that the host machine does not use Coordinated Universal Time (UTC).\\n\\nThe log files inside the Docker image use UTC by default. If your host machine does not use UTC, this issue may occur.\\n\\n\\n###',\n",
       " 'How do I know if my CPU supports Milvus?\\n\\n{{fragments/cpu_support.md}}\\n\\n###',\n",
       " 'Why does Milvus return `illegal instruction` during startup?\\n\\nMilvus requires your CPU to support a SIMD instruction set: SSE4.2, AVX, AVX2, or AVX512. CPU must support at least one of these to ensure that Milvus operates normally. An `illegal instruction` error returned during startup suggests that your CPU does not support any of the above four instruction sets.\\n\\nSee [CPU’s support for SIMD Instruction Set](prerequisite-docker.md).\\n\\n###',\n",
       " 'Can I install Milvus on Windows?\\n\\nYes. You can install Milvus on Windows either by compiling from source code or from a binary package. \\n\\nSee [Run Milvus on Windows](https://milvus.io/blog/2021-11-19-run-milvus-2.0-on-windows.md) to learn how to install Milvus on Windows.\\n\\n###',\n",
       " 'I got an error when installing pymilvus on Windows. What shall I do?\\n\\nIt is not recommended to install PyMilvus on Windows. But if you have to install PyMilvus on Windows but got an error, try installing it in a [Conda](https://docs.conda.io/projects/conda/en/latest/user-guide/install/index.html) environment. See [Install Milvus SDK](install-pymilvus.md) for more information about how to install PyMilvus in the Conda environment.\\n\\n###',\n",
       " 'Can I deploy Milvus when disconnected from the Internet?\\n\\nYes. You can install Milvus in an offline environment. See [Install Milvus Offline](install_offline-helm.md) for more information.\\n\\n###',\n",
       " \"Where can I find the logs generated by Milvus?\\n\\nThe Milvus log is printed to stout (standard output) and stderr (standard error) by default, however we highly recommend redirecting your log to a persistent volume in production. To do so, update `log.file.rootPath` in **milvus.yaml**. And if you deploy Milvus with `milvus-helm` chart, you also need to enable log persistence first via `--set log.persistence.enabled=true`. \\n\\nIf you didn't change the config, using kubectl logs <pod-name> or docker logs CONTAINER can also help you to find the log.\\n\\n\\n###\",\n",
       " 'Can I create index for a segment before inserting data into it?\\n\\nYes, you can. But we recommend inserting data in batches, each of which should not exceed 256 MB, before indexing each segment.\\n\\n###',\n",
       " 'Can I share an etcd instance among multiple Milvus instances?\\n\\nYes, you can share an etcd instance among multiple Milvus instances. To do so, you need to change `etcd.rootPath` to a separate value for each Milvus instance in the configuration files of each before starting them.\\n\\n###',\n",
       " 'Can I share a Pulsar instance among multiple Milvus instances?\\n\\nYes, you can share a Pulsar instance among multiple Milvus instances. To do so, you can\\n\\n- If multi-tenancy is enabled on your Pulsar instance, consider allocating a separate tenant or namespace for each Milvus instance. To do so, you need to change `pulsar.tenant` or `pulsar.namespace` in the configuration files of your Milvus instances to a unique value for each before starting them.\\n- If you do not plan on enabling multi-tenancy on your Pulsar instance, consider changing `msgChannel.chanNamePrefix.cluster` in the configuration files of your Milvus instances to a unique value for each before starting them.\\n\\n###',\n",
       " 'Can I share a MinIO instance among multiple Milvus instances?\\n\\nYes, you can share a MinIO instance among multiple Milvus instances. To do so, you need to change `minio.rootPath` to a unique value for each Milvus instance in the configuration files of each before starting them.\\n\\n###',\n",
       " 'Still have questions?\\n\\nYou can:\\n\\n- Check out [Milvus](https://github.com/milvus-io/milvus/issues) on GitHub. Feel free to ask questions, share ideas, and help others.\\n- Join our [Milvus Forum](https://discuss.milvus.io/) or [Slack Channel](https://join.slack.com/t/milvusio/shared_invite/enQtNzY1OTQ0NDI3NjMzLWNmYmM1NmNjOTQ5MGI5NDhhYmRhMGU5M2NhNzhhMDMzY2MzNDdlYjM5ODQ5MmE3ODFlYzU3YjJkNmVlNDQ2ZTk) to find support and engage with our open-source community.\\n',\n",
       " \"---\\nid: product_faq.md\\nsummary: Find answers to frequently asked questions about the world's most advanced vector database.\\ntitle: Product FAQ\\n---\\n\\n\",\n",
       " 'Product FAQ\\n\\n<!-- TOC -->\\n\\n\\n\\n<!-- /TOC -->\\n\\n###',\n",
       " \"How much does Milvus cost?\\n\\nMilvus is a 100% free open-source project.\\n\\nPlease adhere to [Apache License 2.0](http://www.apache.org/licenses/LICENSE-2.0) when using Milvus for production or distribution purposes.\\n\\nZilliz, the company behind Milvus, also offers a fully managed cloud version of the platform for those that don't want to build and maintain their own distributed instance. [Zilliz Cloud](https://zilliz.com/cloud) automatically maintains data reliability and allows users to pay only for what they use.\\n\\n###\",\n",
       " 'Does Milvus support non-x86 architectures?\\n\\nMilvus cannot be installed or run on non-x86 platforms.\\n\\nYour CPU must support one of the following instruction sets to run Milvus: SSE4.2, AVX, AVX2, AVX512. These are all x86-dedicated SIMD instruction sets.\\n\\n###',\n",
       " 'What is the maximum dataset size Milvus can handle?\\n\\n  \\nTheoretically, the maximum dataset size Milvus can handle is determined by the hardware it is run on, specifically system memory and storage:\\n\\n- Milvus loads all specified collections and partitions into memory before running queries. Therefore, memory size determines the maximum amount of data Milvus can query.\\n- When new entities and and collection-related schema (currently only MinIO is supported for data persistence) are added to Milvus, system storage determines the maximum allowable size of inserted data.\\n\\n###',\n",
       " ' Where does Milvus store data?\\n\\nMilvus deals with two types of data, inserted data and metadata. \\n\\nInserted data, including vector data, scalar data, and collection-specific schema, are stored in persistent storage as incremental log. Milvus supports multiple object storage backends, including [MinIO](https://min.io/), [AWS S3](https://aws.amazon.com/s3/?nc1=h_ls), [Google Cloud Storage](https://cloud.google.com/storage?hl=en#object-storage-for-companies-of-all-sizes) (GCS), [Azure Blob Storage](https://azure.microsoft.com/en-us/products/storage/blobs), [Alibaba Cloud OSS](https://www.alibabacloud.com/product/object-storage-service), and [Tencent Cloud Object Storage](https://www.tencentcloud.com/products/cos) (COS).\\n\\nMetadata are generated within Milvus. Each Milvus module has its own metadata that are stored in etcd.\\n\\n###',\n",
       " 'Why is there no vector data in etcd?\\n\\netcd stores Milvus module metadata; MinIO stores entities.\\n\\n###',\n",
       " 'Does Milvus support inserting and searching data simultaneously?\\n\\nYes. Insert operations and query operations are handled by two separate modules that are mutually independent. From the client’s perspective, an insert operation is complete when the inserted data enters the message queue. However, inserted data are unsearchable until they are loaded to the query node. If the segment size does not reach the index-building threshold (512 MB by default), Milvus resorts to brute-force search and query performance may be diminished.\\n\\n###',\n",
       " 'Can vectors with duplicate primary keys be inserted into Milvus?\\n\\nYes. Milvus does not check if vector primary keys are duplicates.\\n\\n###',\n",
       " \"When vectors with duplicate primary keys are inserted, does Milvus treat it as an update operation?\\n\\nNo. Milvus does not currently support update operations and does not check if entity primary keys are duplicates. You are responsible for ensuring entity primary keys are unique, and if they aren't Milvus may contain multiple entities with duplicate primary keys.\\n\\nIf this occurs, which data copy will return when queried remains an unknown behavior. This limitation will be fixed in future releases.\\n\\n###\",\n",
       " 'What is the maximum length of self-defined entity primary keys?\\n\\nEntity primary keys must be non-negative 64-bit integers.\\n\\n###',\n",
       " 'What is the maximum amount of data that can be added per insert operation?\\n\\nAn insert operation must not exceed 1,024 MB in size. This is a limit imposed by gRPC.\\n\\n###',\n",
       " 'Does collection size impact query performance when searching in a specific partition?\\n\\nNo. If partitions for a search are specified, Milvus searches the specified partitions only.\\n\\n###',\n",
       " 'Does Milvus load the entire collection when partitions are specified for a search?\\n\\nNo. Milvus has varied behavior. Data must be loaded to memory before searching.\\n\\n- If you know which partitions your data are located in, call `load_partition()` to load the intended partition(s) *then* specify partition(s) in the `search()` method call.\\n- If you do not know the exact partitions, call `load_collection()` before calling `search()`.\\n- If you fail to load collections or partitions before searching, Milvus returns an error.\\n\\n###',\n",
       " 'Can indexes be created after inserting vectors?\\n\\nYes. If an index has been built for a collection by `create_index()` before, Milvus will automatically build an index for subsequently inserted vectors. However, Milvus does not build an index until the newly inserted vectors fill an entire segment and the newly created index file is separate from the previous one.\\n\\n###',\n",
       " 'How are the FLAT and IVF_FLAT indexes different?\\n\\nThe IVF_FLAT index divides vector space into list clusters. At the default list value of 16,384, Milvus compares the distances between the target vector and the centroids of all 16,384 clusters to return probe nearest clusters. Milvus then compares the distances between the target vector and the vectors in the selected clusters to get the nearest vectors. Unlike IVF_FLAT, FLAT directly compares the distances between the target vector and every other vector.\\n\\nWhen the total number of vectors approximately equals nlist, there is little distance between IVF_FLAT and FLAT in terms of calculation requirements and search performance. However, as the number of vectors exceeds nlist by a factor of two or more, IVF_FLAT begins to demonstrate performance advantages.\\n\\nSee [Vector Index](index.md) for more information.\\n\\n###',\n",
       " \"How does Milvus flush data?\\n\\nMilvus returns success when inserted data are loaded to the message queue. However, the data are not yet flushed to the disk. Then Milvus' data node writes the data in the message queue to persistent storage as incremental logs. If `flush()` is called, the data node is forced to write all data in the message queue to persistent storage immediately.\\n\\n###\",\n",
       " 'What is normalization? Why is normalization needed?\\n\\nNormalization refers to the process of converting a vector so that its norm equals 1. If inner product is used to calculate vector similarity, vectors must be normalized. After normalization, inner product equals cosine similarity.\\n\\nSee [Wikipedia](https://en.wikipedia.org/wiki/Unit_vector) for more information.\\n\\n###',\n",
       " 'Why do Euclidean distance (L2) and inner product (IP) return different results?\\n\\nFor normalized vectors, Euclidean distance (L2) is mathematically equivalent to inner product (IP). If these similarity metrics return different results, check to see if your vectors are normalized\\n\\n###',\n",
       " \"Is there a limit to the total number of collections and partitions in Milvus?\\n\\nYes. You can create up to 65,535 collections in a Milvus instance. When calculating the number of existing collections, Milvus counts all collections with shards and partitions in them.\\n\\nFor example, let's assume you have already created 100 collections, with 2 shards and 4 partitions in 60 of them and with 1 shard and 12 partitions in the rest 40 collections. The current number of collections can be calculated as:\\n\\n```\\n60 * 2 * 4 + 40 * 1 * 12 = 960\\n```\\n\\n###\",\n",
       " 'Why do I get fewer than k vectors when searching for `topk` vectors?\\n\\nAmong the indexes that Milvus supports, IVF_FLAT and IVF_SQ8 implement the k-means clustering method. A data space is divided into `nlist` clusters and the inserted vectors are distributed to these clusters. Milvus then selects the `nprobe` nearest clusters and compares the distances between the target vector and all vectors in the selected clusters to return the final results.\\n\\nIf `nlist` and `topk` are large and nprobe is small, the number of vectors in the nprobe clusters may be less than `k`. Therefore, when you search for the `topk` nearest vectors, the number of returned vectors is less than `k`.\\n\\nTo avoid this, try setting `nprobe` larger and `nlist` and `k` smaller.\\n\\nSee [Vector Index](index.md) for more information.\\n\\n###',\n",
       " 'What is the maximum vector dimension supported in Milvus?\\n\\nMilvus can manage vectors with up to 32,768 dimensions by default. You can increase the value of `Proxy.maxDimension` to allow for a larger dimension vector.\\n\\n###',\n",
       " 'Does Milvus support Apple M1 CPU?\\n\\nCurrent Milvus release does not support Apple M1 CPU.\\n\\n###',\n",
       " 'What data types does Milvus support on the primary key field?\\n\\nIn current release, Milvus supports both INT64 and string.\\n\\n###',\n",
       " 'Is Milvus scalable?\\n\\nYes. You can deploy Milvus cluster with multiple nodes via Helm Chart on Kubernetes. Refer to [Scale Guide](scaleout.md) for more instruction.\\n\\n###',\n",
       " 'Does the query perform in memory? What are incremental data and historical data?\\n\\nYes. When a query request comes, Milvus searches both incremental data and historical data by loading them into memory. Incremental data are in the growing segments, which are buffered in memory before they reach the threshold to be persisted in storage engine, while historical data are from the sealed segments that are stored in the object storage. Incremental data and historical data together constitute the whole dataset to search.\\n\\n###',\n",
       " 'Is Milvus available for concurrent search?\\n\\nYes. For queries on the same collection, Milvus concurrently searches the incremental and historical data. However, queries on different collections are conducted in series. Whereas the historical data can be an extremely huge dataset, searches on the historical data are relatively more time-consuming and essentially performed in series.\\n\\n###',\n",
       " 'Why does the data in MinIO remain after the corresponding collection is dropped?\\n\\nData in MinIO is designed to remain for a certain period of time for the convenience of data rollback.\\n\\n###',\n",
       " 'Does Milvus support message engines other than Pulsar?\\n\\nYes. Kafka is supported in Milvus 2.1.0.\\n\\n###',\n",
       " \"What's the difference between a search and a query?\\n\\nIn Milvus, a vector similarity search retrieves vectors based on similarity calculation and vector index acceleration. Unlike a vector similarity search, a vector query retrieves vectors via scalar filtering based on a boolean expression. The boolean expression filters on scalar fields or the primary key field, and it retrieves all results that match the filters. In a query, neither similarity metrics nor vector index is involved.\\n\\n###\",\n",
       " 'Why does a float vector value have a precision of 7 decimal digits in Milvus?\\n\\nMilvus supports storing vectors as Float32 arrays. A Float32 value has a precision of 7 decimal digits. Even with a Float64 value, such as 1.3476964684980388, Milvus stores it as 1.347696. Therefore, when you retrieve such a vector from Milvus, the precision of the Float64 value is lost.\\n\\n###',\n",
       " 'How does Milvus handle vector data types and precision?\\n\\nMilvus supports Binary, Float32, Float16, and BFloat16 vector types.\\n\\n- Binary vectors: Store binary data as sequences of 0s and 1s, used in image processing and information retrieval.\\n- Float32 vectors: Default storage with a precision of about 7 decimal digits. Even Float64 values are stored with Float32 precision, leading to potential precision loss upon retrieval.\\n- Float16 and BFloat16 vectors: Offer reduced precision and memory usage. Float16 is suitable for applications with limited bandwidth and storage, while BFloat16 balances range and efficiency, commonly used in deep learning to reduce computational requirements without significantly impacting accuracy.\\n\\n###',\n",
       " \"Still have questions?\\n\\nYou can:\\n\\n- Check out [Milvus](https://github.com/milvus-io/milvus/issues) on GitHub. You're welcome to raise questions, share ideas, and help others.\\n- Join our [Slack community](https://slack.milvus.io/) to find support and engage with our open-source community.\\n\\n\",\n",
       " '---\\nid: performance_faq.md\\nsummary: Find answers to frequently asked questions about search performance, performance enhancements, and other performance related issues.\\ntitle: Performance FAQ\\n---\\n\\n',\n",
       " 'Performance FAQ\\n\\n<!-- TOC -->\\n\\n\\n<!-- /TOC -->\\n\\n###',\n",
       " 'How to set `nlist` and `nprobe` for IVF indexes?\\n\\nSetting `nlist` is scenario-specific. As a rule of thumb, the recommended value of `nlist` is `4 × sqrt(n)`, where `n` is the total number of entities in a segment.\\n\\nThe size of each segment is determined by the `datacoord.segment.maxSize` parameter, which is set to 512 MB by default. The total number of entities in a segment n can be estimated by dividing `datacoord.segment.maxSize` by the size of each entity.\\n\\nSetting `nprobe` is specific to the dataset and scenario, and involves a trade-off between accuracy and query performance. We recommend finding the ideal value through repeated experimentation.\\n\\nThe following charts are results from a test running on the sift50m dataset and IVF_SQ8 index, which compares recall and query performance of different `nlist`/`nprobe` pairs.\\n\\n![Accuracy test](../../../assets/accuracy_nlist_nprobe.png \"Accuracy test.\")\\n![Performance test](../../../assets/performance_nlist_nprobe.png \"Performance test.\")\\n\\n###',\n",
       " 'Why do queries sometimes take longer on smaller datasets?\\n\\nQuery operations are conducted on segments. indexes reduce the amount of time it takes to query a segment. If a segment has not been indexed, Milvus resorts to brute-force search on the raw data—drastically increasing query time.\\n\\nTherefore, it usually takes longer to query on a small dataset (collection) because it has not built index. This is because the sizes of its segments have not reached the index-building threshold set by `rootCoord.minSegmentSizeToEnableindex`. Call `create_index()` to force Milvus to index segments that have reached the threshold but not yet been automatically indexed, significantly improving query performance.\\n\\n\\n###',\n",
       " 'What factors impact CPU usage?\\n\\nCPU usage increases when Milvus is building indexes or running queries. In general, index building is CPU intensive except when using Annoy, which runs on a single thread.\\n\\nWhen running queries, CPU usage is affected by `nq` and `nprobe`. When `nq` and `nprobe` are small, concurrency is low and CPU usage stays low.\\n\\n###',\n",
       " 'Does simultaneously inserting data and searching impact query performance?\\n\\nInsert operations are not CPU intensive. However, because new segments may not have reached the threshold for index building, Milvus resorts to brute-force search—significantly impacting query performance.\\n\\nThe `rootcoord.minSegmentSizeToEnableIndex` parameter determines the index-building threshold for a segment, and is set to 1024 rows by default. See [System Configuration](system_configuration.md) for more information.\\n\\n###',\n",
       " 'Still have questions?\\n\\nYou can:\\n\\n- Check out [Milvus](https://github.com/milvus-io/milvus/issues) on GitHub. Feel free to ask questions, share ideas, and help others.\\n- Join our [Slack Channel](https://join.slack.com/t/milvusio/shared_invite/enQtNzY1OTQ0NDI3NjMzLWNmYmM1NmNjOTQ5MGI5NDhhYmRhMGU5M2NhNzhhMDMzY2MzNDdlYjM5ODQ5MmE3ODFlYzU3YjJkNmVlNDQ2ZTk) to find support and engage with our open-source community.\\n',\n",
       " '---\\nid: troubleshooting.md\\nsummary: Learn about common issues you may encounter with Milvus and how to overcome them.\\ntitle: Troubleshooting\\n---\\n',\n",
       " 'Troubleshooting\\nThis page lists common issues that may occur when running Milvus, as well as possible troubleshooting tips. Issues on this page fall into the following categories:\\n\\n- [Boot issues](#boot_issues)\\n- [Runtime issues](#runtime_issues)\\n- [API issues](#api_issues)\\n- [etcd crash issues](#etcd_crash_issues)\\n\\n\\n  #',\n",
       " 'Boot issues\\n\\n  Boot errors are usually fatal. Run the following command to view error details:\\n\\n  ```\\n  $ docker logs <your milvus container id>\\n  ```\\n\\n\\n  #',\n",
       " 'Runtime issues\\n\\n  Errors that occur during runtime may cause service breakdown. To troubleshoot this issue, check compatibility between the server and your client before moving forward.\\n\\n\\n  #',\n",
       " 'API issues\\n\\n  These issues occur during API method calls between the Milvus server and your client. They will be returned to the client synchronously or asynchronously.\\n  \\n\\n  #',\n",
       " 'etcd crash issues\\n  \\n  ##',\n",
       " '1. etcd pod pending\\n\\n  The etcd cluster uses pvc by default. StorageClass needs to be preconfigured for the Kubernetes cluster.\\n\\n  ##',\n",
       " '2. etcd pod crash\\n\\n  When an etcd pod crashes with `Error: bad member ID arg (strconv.ParseUint: parsing \"\": invalid syntax), expecting ID in Hex`, you can log into this pod and delete the `/bitnami/etcd/data/member_id` file.\\n\\n  ##',\n",
       " '3. Multiple pods keep crashing while `etcd-0` is still running\\n\\n  You can run the following code if multiple pods keeps crashing while `etcd-0` is still running.\\n  \\n  ```\\n  kubectl scale sts <etcd-sts> --replicas=1\\n  ',\n",
       " 'delete the pvc for etcd-1 and etcd-2\\n  kubectl scale sts <etcd-sts> --replicas=3\\n  ```\\n  \\n  ##',\n",
       " '4. All pods crash\\n  \\n  When all pods crash, try copying the `/bitnami/etcd/data/member/snap/db` file. Use `https://github.com/etcd-io/bbolt` to modify database data.\\n\\n  All Milvus metadata are kept in the `key` bucket. Back up the data in this bucket and run the following commands. Note that the prefix data in the `by-dev/meta/session` file does not require a backup.\\n  \\n  ```\\n  kubectl kubectl scale sts <etcd-sts> --replicas=0\\n  ',\n",
       " 'delete the pvc for etcd-0, etcd-1, etcd-2\\n  kubectl kubectl scale sts <etcd-sts> --replicas=1\\n  ',\n",
       " 'restore the backup data\\n  ```\\n\\n\\n\\n<br/>\\n\\n  If you need help solving a problem, feel free to:\\n\\n  - Join our [Slack channel](https://join.slack.com/t/milvusio/shared_invite/enQtNzY1OTQ0NDI3NjMzLWNmYmM1NmNjOTQ5MGI5NDhhYmRhMGU5M2NhNzhhMDMzY2MzNDdlYjM5ODQ5MmE3ODFlYzU3YjJkNmVlNDQ2ZTk) and reach out for support from the Milvus team.\\n  - [File an Issue](https://github.com/milvus-io/milvus/issues/new/choose) on GitHub that includes details about your problem.\\n\\n',\n",
       " '#',\n",
       " '中华人民共和国民法典\\n\\n##',\n",
       " '（二）物权编\\n\\n###',\n",
       " '第一章 一般规定\\n\\n**第二百零四条** 为了明确物的归属，充分发挥物的效用，保护权利人的合法权益，维护社会经济秩序，制定本编。\\n\\n**第二百零五条** 本编调整因物的归属和利用产生的民事关系。\\n\\n**第二百零六条** 国家坚持和完善社会主义公有制为主体、多种所有制经济共同发展的基本经济制度。\\n国家巩固和发展公有制经济，鼓励、支持和引导非公有制经济的发展。\\n国家实行社会主义市场经济，保障一切市场主体的平等法律地位和发展权利。\\n\\n**第二百零七条** 国家、集体、私人的物权和其他权利人的物权受法律平等保护，任何组织或者个人不得侵犯。\\n\\n**第二百零八条** 不动产权利的设立、变更、转让和消灭，应当依照法律规定登记。动产物权的设立和转让，应当依照法律规定交付。\\n\\n**第二百零九条** 不动产物权的设立、变更、转让和消灭，经依法登记，发生效力；未经登记，不发生效力，但是法律另有规定的除外。\\n依法属于国家所有的自然资源，所有权可以不登记。\\n\\n**第二百一十条** 不动产登记，由不动产所在地的登记机构办理。\\n国家对不动产实行统一登记制度。统一登记的范围、登记机构和登记办法，由法律、行政法规规定。\\n\\n**第二百一十一条** 当事人申请登记，应当根据不同登记事项提供材料。\\n申请登记材料以及登记事项相关信息，可以公开查询。\\n\\n**第二百一十二条** 登记机构应当履行下列职责：\\n（一）审查申请人提供的材料；\\n（二）询问申请人；\\n（三）如实、及时登记；\\n（四）法律、行政法规规定的其他职责。\\n申请登记的不动产存在尚未解决的权属争议的，登记机构应当不予登记，并书面告知申请人。\\n\\n**第二百一十三条** 登记机构不得有下列行为：\\n（一）要求对不动产进行评估；\\n（二）以不动产登记为条件收取其他费用；\\n（三）超出登记职责范围的其他行为。\\n\\n**第二百一十四条** 不动产物权的设立、变更、转让和消灭，依照法律规定应当登记的，自记载于不动产登记簿时发生效力。\\n\\n**第二百一十五条** 不动产登记簿由登记机构管理。\\n不动产登记簿应当采用纸质形式或者电子形式。\\n不动产登记簿采用电子形式的，应当备份。\\n\\n**第二百一十六条** 不动产登记簿是物权归属和内容的根据。\\n不动产登记簿记载的事项与不动产权属证书记载的事项不一致的，除有证据证明不动产登记簿确有错误外，以不动产登记簿为准。\\n\\n**第二百一十七条** 不动产权属证书是权利人享有该不动产物权的证明。不动产权属证书记载的事项，应当与不动产登记簿一致；不一致的，除有证据证明不动产登记簿确有错误外，以不动产登记簿为准。\\n\\n**第二百一十八条** 权利人、利害关系人可以申请查询、复制不动产登记资料，登记机构应当提供。\\n\\n**第二百一十九条** 利害关系人可以申请查询不动产登记资料。申请查询的，登记机构应当提供。\\n\\n**第二百二十条** 权利人、利害关系人认为不动产登记簿记载的事项错误的，可以申请更正登记。不动产登记簿记载的权利人书面同意或者有证据证明登记确有错误的，登记机构应当予以更正。\\n不动产登记簿记载的权利人不同意更正的，利害关系人可以申请异议登记。登记机构予以异议登记的，申请人在异议登记之日起十五日内不提起诉讼的，异议登记失效。异议登记不当，造成权利人损害的，权利人可以请求损害赔偿。\\n\\n**第二百二十一条** 当事人签订买卖房屋的协议或者签订其他不动产物权的协议，为保障将来实现物权，可以依照约定向登记机构申请预告登记。预告登记后，未经预告登记的权利人同意，处分该不动产的，不发生物权效力。\\n预告登记后，债权消灭或者自能够进行不动产登记之日起九十日内未申请登记的，预告登记失效。\\n\\n**第二百二十二条** 当事人提供虚假材料申请登记，给他人造成损害的，应当承担赔偿责任。\\n因登记机构登记错误，给他人造成损害的，应当承担赔偿责任。登记机构赔偿后，可以向造成登记错误的人追偿。\\n\\n**第二百二十三条** 动产物权的设立和转让，自交付时发生效力，但是法律另有规定的除外。\\n\\n**第二百二十四条** 船舶、航空器和机动车等的物权的设立、变更、转让和消灭，未经登记，不得对抗善意第三人。\\n\\n**第二百二十五条** 动产物权设立和转让前，权利人已经占有该动产的，物权自民事法律行为生效时发生效力。\\n\\n**第二百二十六条** 动产物权设立和转让，合同生效时，所有权没有转移，标的物也未交付，标的物已经移转占有的，所有权自交付时发生效力。\\n因受让人取得占有的，所有权自交付时发生效力。\\n\\n**第二百二十七条** 动产物权设立和转让，合同生效时，所有权没有转移，标的物也未交付，标的物由第三人占有的，出让人将返还请求权转让给受让人时，物权自交付时发生效力。\\n因受让人取得占有的，所有权自交付时发生效力。\\n\\n**第二百二十八条** 动产物权设立和转让，合同生效时，所有权没有转移，标的物也未交付，标的物由出让人继续占有的，物权自合同生效时发生效力。\\n因受让人取得占有的，所有权自交付时发生效力。\\n\\n**第二百二十九条** 因买卖、设定担保物权等基于法律行为而取得物权的，自法律行为生效时发生效力，但是法律另有规定的除外。\\n\\n**第二百三十条** 因继承取得物权的，自继承开始时发生效力。\\n\\n**第二百三十一条** 因合法建造、拆除房屋等事实行为设立或者消灭物权的，自事实行为完成时发生效力。\\n\\n**第二百三十二条** 处分权人将不动产或者动产转让给受让人，所有权已经转移，受让人尚未占有的，物权自交付时发生效力。\\n受让人占有的，物权自占有发生效力。\\n\\n**第二百三十三条** 善意取得。\\n无处分权人将不动产或者动产转让给受让人，受让人取得该不动产或者动产时是善意，且该不动产或者动产已经登记或者交付的，受让人取得该不动产或者动产的所有权。\\n受让人依照前款规定取得不动产或者动产的所有权的，原权利人有权向无处分权人请求损害赔偿。\\n当事人善意取得其他物权的，参照适用前两款规定。\\n\\n**第二百三十四条** 拾得遗失物，应当返还权利人。拾得人应当及时通知权利人领取，或者送交公安等有关部门。\\n\\n**第二百三十五条** 遗失物自发布招领公告之日起一年内无人认领的，归国家所有。\\n\\n**第二百三十六条** 权利人悬赏寻找遗失物的，领取遗失物时应当按照承诺向拾得人支付报酬。\\n拾得人侵占遗失物的，无权请求保管费等费用，也无权请求权利人支付报酬。\\n\\n**第二百三十七条** 发现埋藏物、隐藏物的，参照适用拾得遗失物的有关规定。\\n法律另有规定的，依照其规定。\\n\\n**第二百三十八条** 拾得漂流物、失散的饲养动物或者受到损害的财产，参照适用拾得遗失物的有关规定。\\n\\n**第二百三十九条** 征收是指国家为了公共利益的需要，依照法律规定的权限和程序对集体所有的土地和房屋、单位、个人的房屋以及其他不动产实行征收或者征用，并给予补偿。\\n征收组织、个人的房屋及其他不动产，应当依法给予公平、合理的补偿，保障被征收人的居住条件和财产权利。\\n\\n**第二百四十条** 为了公共利益的需要，依照法律规定的权限和程序可以征收组织、个人的房屋以及其他不动产，并给予公平、合理的补偿。\\n国家为了公共利益的需要，依照法律规定的权限和程序可以对集体所有的土地和房屋实行征收或者征用，并给予补偿。\\n\\n**第二百四十一条** 征收集体所有的土地，应当依法及时足额支付土地补偿费、安置补助费以及农村村民住宅、其他地上附着物和青苗等的补偿费用，并安排被征地农民的社会保障费用，保障被征地农民的生活，维护其合法权益。\\n征收组织、个人的房屋及其他不动产，应当依法给予公平、合理的补偿，保障被征收人的居住条件和财产权利。\\n\\n**第二百四十二条** 为了公共利益的需要，依照法律规定的权限和程序可以征用组织、个人的房屋以及其他不动产。\\n征用单位、个人的房屋及其他不动产，应当依照法律规定的权限和程序进行，并给予补偿。\\n\\n**第二百四十三条** 法律、行政法规对不动产或者动产的归属有特别规定的，依照其规定。\\n\\n###',\n",
       " '第二章 所有权\\n\\n####',\n",
       " '第一节 一般规定\\n\\n**第二百四十四条** 所有权人对自己的不动产或者动产，依法享有占有、使用、收益和处分的权利。\\n\\n**第二百四十五条** 法律规定专属于国家所有的不动产和动产，任何组织或者个人不得取得所有权。\\n\\n**第二百四十四条** 所有权人对自己的不动产或者动产，依法享有占有、使用、收益和处分的权利。\\n\\n**第二百四十六条** 法律规定专属于国家所有的不动产和动产，任何组织或者个人不得取得所有权。\\n\\n**第二百四十七条** 为了公共利益的需要，依照法律规定的权限和程序可以征收组织、个人的房屋以及其他不动产。\\n征收组织、个人的房屋及其他不动产，应当依法给予公平、合理的补偿，保障被征收人的居住条件和财产权利。\\n\\n**第二百四十八条** 国家为了公共利益的需要，依照法律规定的权限和程序可以对集体所有的土地和房屋实行征收或者征用，并给予补偿。\\n\\n**第二百四十九条** 为了公共利益的需要，依照法律规定的权限和程序可以征用组织、个人的房屋以及其他不动产。\\n征用单位、个人的房屋及其他不动产，应当依照法律规定的权限和程序进行，并给予补偿。\\n\\n**第二百五十条** 法律、行政法规对不动产或者动产的归属有特别规定的，依照其规定。\\n\\n**第二百五十一条** 矿藏、水流、海域等自然资源属于国家所有。法律规定属于集体所有的，依照其规定。\\n\\n**第二百五十二条** 城市的土地，属于国家所有。法律规定属于国家所有的土地，任何组织或者个人不得侵占、买卖或者以其他形式非法转让。\\n农村和城市郊区的土地，除由法律规定属于国家所有的以外，属于集体所有；宅基地和自留地、自留山，属于集体所有。\\n\\n**第二百五十三条** 矿藏、水流、海域等自然资源属于国家所有。法律规定属于集体所有的，依照其规定。\\n\\n**第二百五十四条** 城市的土地，属于国家所有。法律规定属于国家所有的土地，任何组织或者个人不得侵占、买卖或者以其他形式非法转让。\\n农村和城市郊区的土地，除由法律规定属于国家所有的以外，属于集体所有；宅基地和自留地、自留山，属于集体所有。\\n\\n**第二百五十五条** 国家所有财产的范围和管理方式，由法律、行政法规规定。\\n\\n**第二百五十六条** 所有的国家所有的财产，任何人不得侵占、哄抢、破坏。\\n\\n**第二百五十七条** 机关法人、事业单位法人、社会团体法人等法人的财产，属于国家所有。法律另有规定的，依照其规定。\\n\\n**第二百五十八条** 农村集体经济组织的财产，属于集体所有。\\n法律规定属于集体所有的土地和房屋、山林、草地、荒地、滩涂等，依照其规定。\\n\\n**第二百五十九条** 集体所有的土地依照法律规定属于集体所有的，其所有权由集体经济组织或者村民委员会、村民小组代表集体行使。\\n法律规定属于集体所有的土地和房屋、山林、草地、荒地、滩涂等，依照其规定。\\n\\n**第二百六十条** 宅基地和自留地、自留山，属于集体所有。\\n法律规定属于集体所有的土地和房屋、山林、草地、荒地、滩涂等，依照其规定。\\n\\n**第二百六十一条** 属于国家所有的自然资源，所有权可以不登记。\\n\\n**第二百六十二条** 国家、集体、私人的物权和其他权利人的物权受法律平等保护，任何组织或者个人不得侵犯。\\n\\n**第二百六十三条** 私人对其合法所有的财产，依法享有占有、使用、收益和处分的权利。\\n\\n**第二百六十四条** 国家、集体、私人的物权和其他权利人的物权受法律平等保护，任何组织或者个人不得侵犯。\\n\\n**第二百六十五条** 私人所有的不动产或者动产被征收、征用，依法给予公平、合理的补偿。\\n\\n**第二百六十六条** 为了公共利益的需要，依照法律规定的权限和程序可以征收组织、个人的房屋以及其他不动产。\\n征收组织、个人的房屋及其他不动产，应当依法给予公平、合理的补偿，保障被征收人的居住条件和财产权利。\\n\\n**第二百六十七条** 征用单位、个人的房屋及其他不动产，应当依照法律规定的权限和程序进行，并给予补偿。\\n\\n**第二百六十八条** 法律对集体所有的财产有特别保护的，依照其规定。\\n\\n**第二百六十九条** 建筑区划内的道路，属于业主共有，但是属于城镇公共道路的除外。建筑区划内的绿地，属于业主共有，但是属于城镇公共绿地或者明示属于个人的除外。建筑区划内的其他公共场所、公用设施和物业服务用房，属于业主共有。\\n\\n**第二百七十条** 业主对建筑物专有部分以外的共有部分，享有共有和共同管理的权利。\\n\\n**第二百七十一条** 业主对建筑物内的住宅、经营性用房等专有部分享有所有权。业主可以行使权利，但不得危及建筑物的安全，不得损害其他业主的合法权益。\\n\\n**第二百七十二条** 业主可以设立业主大会，选举业主委员会。业主大会、业主委员会的成立和活动，适用法律、法规的规定。\\n\\n**第二百七十三条** 业主对其建筑物专有部分享有占有、使用、收益和处分的权利。业主行使权利不得危及建筑物的安全，不得损害其他业主的合法权益。\\n\\n**第二百七十四条** 业主对建筑物内的住宅、经营性用房等专有部分享有所有权。业主可以行使权利，但不得危及建筑物的安全，不得损害其他业主的合法权益。\\n\\n**第二百七十五条** 建筑区划内的道路，属于业主共有，但是属于城镇公共道路的除外。建筑区划内的绿地，属于业主共有，但是属于城镇公共绿地或者明示属于个人的除外。建筑区划内的其他公共场所、公用设施和物业服务用房，属于业主共有。\\n\\n**第二百七十六条** 建筑区划内规划用于停放汽车的车位、车库的归属，由当事人通过出售、附赠或者出租等方式约定。\\n占用业主共有的道路或者其他场地用于停放汽车的车位，属于业主共有。\\n\\n**第二百七十七条** 业主不得以放弃权利为由不履行义务。\\n\\n**第二百七十八条** 业主可以设立业主大会，选举业主委员会。业主大会、业主委员会的成立和活动，适用法律、法规的规定。\\n\\n**第二百七十九条** 业主大会或者业主委员会，对任意弃置垃圾、排放污染物或者噪声、违反规定饲养动物、违章搭建、侵占通道、拒付物业费等损害他人合法权益的行为，有权依照法律、法规以及管理规约，请求行为人停止侵害、消除危险、排除妨碍、恢复原状、赔偿损失。\\n业主大会或者业主委员会请求行为人承担民事责任的，人民法院应当依法支持。\\n\\n**第二百八十条** 业主可以自行管理建筑物及其附属设施，也可以委托物业服务企业或者其他管理人管理。\\n\\n**第二百八十一条** 业主大会或者业主委员会，对任意弃置垃圾、排放污染物或者噪声、违反规定饲养动物、违章搭建、侵占通道、拒付物业费等损害他人合法权益的行为，有权依照法律、法规以及管理规约，请求行为人停止侵害、消除危险、排除妨碍、恢复原状、赔偿损失。\\n业主大会或者业主委员会请求行为人承担民事责任的，人民法院应当依法支持。\\n\\n**第二百八十二条** 物业服务企业或者其他管理人根据业主的委托，依照法律、法规的规定和合同的约定，对建筑物及其附属设施进行维修、养护、管理，维护环境卫生和公共秩序，向业主提供服务。\\n物业服务企业或者其他管理人应当接受业主的监督，并对业主大会和业主委员会负责。\\n\\n**第二百八十三条** 业主大会或者业主委员会作出的决定，对业主具有约束力。\\n业主大会或者业主委员会作出的决定侵害业主合法权益的，受侵害的业主可以请求人民法院撤销。\\n\\n**第二百八十四条** 业主应当遵守法律、法规以及管理规约。\\n管理规约对全体业主具有约束力。\\n\\n**第二百八十五条** 业主应当按照约定，向物业服务企业或者其他管理人支付物业费。物业服务企业或者其他管理人已经按照约定和有关规定提供服务的，业主不得以未接受或者无需接受相关物业服务为由拒绝支付物业费。\\n\\n**第二百八十六条** 违反国家有关规定，在建筑物及其附属设施上挖洞、凿孔、擅自改变房屋结构、用途，或者设置妨碍他人通行、采光、通风的设施等，损害他人合法权益的，应当依法承担民事责任。\\n\\n**第二百八十七条** 业主对共有部分享有共有权和共同管理的权利。\\n业主可以就建筑物及其附属设施的维修、养护、管理等事项，通过管理规约、业主大会议事规则等形式，约定共同管理的方式和内容。\\n\\n**第二百八十八条** 不动产相邻权利人应当按照有利生产、方便生活、团结互助、公平合理的原则，正确处理相邻关系。\\n\\n**第二百八十九条** 法律、法规对处理相邻关系有规定的，依照其规定；法律、法规没有规定的，可以按照当地习惯。\\n\\n**第二百九十条** 不动产权利人对自然流水的利用，应当在合理范围内，不得损害相邻不动产权利人的合法权益。\\n\\n**第二百九十一条** 不动产权利人因用水、排水需要，可以利用相邻不动产；对自然流水的利用，应当在合理范围内。\\n利用相邻不动产时，应当给予相邻不动产权利人必要的补偿；造成损害的，应当赔偿损失。\\n\\n**第二百九十二条** 不动产权利人因修建、施工等需要在相邻不动产上通过的，相邻不动产权利人应当提供便利；造成损害的，应当赔偿损失。\\n\\n**第二百九十三条** 土地权利人因通行等需要，可以利用相邻土地；对自然流水的利用，应当在合理范围内。\\n利用相邻土地时，应当给予相邻土地权利人必要的补偿；造成损害的，应当赔偿损失。\\n\\n**第二百九十四条** 不动产权利人因利用相邻不动产取得的利益，应当给予相邻不动产权利人必要的补偿。\\n造成损害的，应当赔偿损失。\\n\\n**第二百九十五条** 建造建筑物，不得违反国家有关工程建设标准，妨碍相邻不动产的通风、采光和日照。\\n\\n**第二百九十六条** 不动产权利人因通行等需要，可以利用相邻土地；对自然流水的利用，应当在合理范围内。\\n利用相邻土地时，应当给予相邻土地权利人必要的补偿；造成损害的，应当赔偿损失。\\n\\n**第二百九十七条** 建筑物及其附属设施，应当与相邻建筑物保持必要的距离，不得影响相邻建筑物的通风、采光和日照。\\n\\n**第二百九十八条** 不动产权利人因建造、修缮建筑物以及其他原因，应当对相邻不动产造成损害的，应当依法承担民事责任。\\n\\n**第二百九十九条** 不动产权利人对相邻土地使用权的行使，应当有利于相邻土地的利用，不得妨碍相邻土地的正常使用。\\n\\n**第三百条** 不动产权利人对相邻不动产的排水、排污，应当采取必要措施，不得污染环境。\\n\\n**第三百零一条** 不动产权利人因使用相邻不动产造成损害的，应当给予相邻不动产权利人必要的补偿。\\n造成损害的，应当赔偿损失。\\n\\n**第三百零二条** 不动产权利人因行使权利，给相邻不动产权利人造成损害的，应当依法承担民事责任。\\n\\n**第三百零三条** 不动产权利人对相邻不动产的通风、采光、日照，应当予以方便，不得妨碍相邻不动产的正常使用。\\n\\n**第三百零四条** 不动产权利人对相邻土地使用权的行使，应当有利于相邻土地的利用，不得妨碍相邻土地的正常使用。\\n\\n**第三百零五条** 不动产权利人因使用相邻不动产造成损害的，应当给予相邻不动产权利人必要的补偿。\\n造成损害的，应当赔偿损失。\\n\\n**第三百零六条** 不动产权利人对相邻不动产的排水、排污，应当采取必要措施，不得污染环境。\\n\\n**第三百零七条** 不动产权利人对相邻土地使用权的行使，应当有利于相邻土地的利用，不得妨碍相邻土地的正常使用。\\n\\n**第三百零八条** 不动产权利人对相邻不动产的通风、采光、日照，应当予以方便，不得妨碍相邻不动产的正常使用。\\n\\n**第三百零九条** 不动产权利人因行使权利，给相邻不动产权利人造成损害的，应当依法承担民事责任。\\n\\n####',\n",
       " '第二节 共有\\n\\n**第三百一十条** 两个以上组织、个人共同享有用益物权、担保物权的，参照适用本章共有以及其他相关法律的规定。\\n\\n**第三百一十一条** 区分所有建筑物的共有部分，由业主共同享有所有权。\\n业主对建筑物专有部分以外的共有部分，享有共有和共同管理的权利。\\n\\n**第三百一十二条** 共同共有人对共有的不动产或者动产共同享有所有权。\\n共同共有人对共有财产享有平等的占有、使用、收益和处分的权利。\\n\\n**第三百一十三条** 共同共有人对共有财产享有平等的占有、使用、收益和处分的权利。\\n在共同共有关系存续期间，部分共同共有人未经其他共同共有人同意，擅自处分共有财产的，处分行为无效。\\n但是，第三人善意取得的，适用本法第三百一十一条的规定。\\n\\n**第三百一十四条** 按份共有人对共有的不动产或者动产按照其份额享有所有权。\\n\\n**第三百一十五条** 按份共有人对共有的不动产或者动产按照其份额享有占有、使用、收益和处分的权利。\\n\\n**第三百一十六条** 按份共有人转让其享有的份额，其他按份共有人在同等条件下享有优先购买的权利。\\n\\n**第三百一十七条** 按份共有人在共同关系存续期间，可以协议变更共有份额。\\n没有约定或者约定不明确的，按照出资额确定；不能确定出资额的，视为等额享有。\\n\\n**第三百一十八条** 共有人在共同关系存续期间，对共有物享有共有和共同管理的权利。\\n对共有物的管理，除共有人另有约定外，应当由全体共有人一致同意。\\n但是，对共有物的维修、养护等事项，可以由按份共有人按照各自的份额比例共同决定；共同共有人可以共同决定。\\n\\n**第三百一十九条** 共有物的分割，可以协议分割。\\n协议不成的，可以请求人民法院分割；但共有物不宜分割或者分割会减损价值的，可以折价或者拍卖、变卖。\\n\\n**第三百二十条** 共有物分割后，原共有人对分割前的共有债务，承担连带责任。\\n\\n**第三百二十一条** 共有物分割后，各共有人对其分得的财产享有所有权。\\n共有物分割后，各共有人对分割前的共有债务，承担连带责任。\\n\\n**第三百二十二条** 共有物分割后，各共有人对分割前的共有债务，承担连带责任。\\n但是，共有物分割后，各共有人对其分得的财产，仅以其分得的财产为限承担责任。\\n\\n**第三百二十三条** 共有关系存续期间，共有人可以约定对共有物的管理方式。\\n没有约定或者约定不明确的，按照以下规定：\\n（一）共同共有关系存续期间，共有物的管理，除共有人另有约定外，应当由全体共有人一致同意。\\n（二）按份共有关系存续期间，对共有物的管理，除共有人另有约定外，应当由占份额三分之二以上的按份共有人同意。\\n\\n**第三百二十四条** 共有人对共有物享有共有和共同管理的权利。\\n共有人对共有物的管理，除共有人另有约定外，应当由全体共有人一致同意。\\n但是，对共有物的维修、养护等事项，可以由按份共有人按照各自的份额比例共同决定；共同共有人可以共同决定。\\n\\n**第三百二十五条** 共有人对共有物享有共有和共同管理的权利。\\n共有人对共有物的管理，除共有人另有约定外，应当由全体共有人一致同意。\\n但是，对共有物的维修、养护等事项，可以由按份共有人按照各自的份额比例共同决定；共同共有人可以共同决定。\\n\\n####',\n",
       " '第三节 相邻关系\\n\\n**第三百二十六条** 不动产相邻权利人应当按照有利生产、方便生活、团结互助、公平合理的原则，正确处理相邻关系。\\n\\n**第三百二十七条** 法律、法规对处理相邻关系有规定的，依照其规定；法律、法规没有规定的，可以按照当地习惯。\\n\\n**第三百二十八条** 不动产权利人对自然流水的利用，应当在合理范围内，不得损害相邻不动产权利人的合法权益。\\n\\n**第三百二十九条** 不动产权利人因用水、排水需要，可以利用相邻不动产；对自然流水的利用，应当在合理范围内。\\n利用相邻不动产时，应当给予相邻不动产权利人必要的补偿；造成损害的，应当赔偿损失。\\n\\n**第三百三十条** 不动产权利人因修建、施工等需要在相邻不动产上通过的，相邻不动产权利人应当提供便利；造成损害的，应当赔偿损失。\\n\\n**第三百三十一条** 土地权利人因通行等需要，可以利用相邻土地；对自然流水的利用，应当在合理范围内。\\n利用相邻土地时，应当给予相邻土地权利人必要的补偿；造成损害的，应当赔偿损失。\\n\\n**第三百三十二条** 不动产权利人因利用相邻不动产取得的利益，应当给予相邻不动产权利人必要的补偿。\\n造成损害的，应当赔偿损失。\\n\\n**第三百三十三条** 建造建筑物，不得违反国家有关工程建设标准，妨碍相邻不动产的通风、采光和日照。\\n\\n**第三百三十四条** 不动产权利人因通行等需要，可以利用相邻土地；对自然流水的利用，应当在合理范围内。\\n利用相邻土地时，应当给予相邻土地权利人必要的补偿；造成损害的，应当赔偿损失。\\n\\n**第三百三十五条** 建筑物及其附属设施，应当与相邻建筑物保持必要的距离，不得影响相邻建筑物的通风、采光和日照。\\n\\n**第三百三十六条** 不动产权利人因建造、修缮建筑物以及其他原因，应当对相邻不动产造成损害的，应当依法承担民事责任。\\n\\n**第三百三十七条** 不动产权利人对相邻土地使用权的行使，应当有利于相邻土地的利用，不得妨碍相邻土地的正常使用。\\n\\n**第三百三十八条** 不动产权利人对相邻不动产的排水、排污，应当采取必要措施，不得污染环境。\\n\\n**第三百三十九条** 不动产权利人因使用相邻不动产造成损害的，应当给予相邻不动产权利人必要的补偿。\\n造成损害的，应当赔偿损失。\\n\\n**第三百四十条** 不动产权利人因行使权利，给相邻不动产权利人造成损害的，应当依法承担民事责任。\\n\\n**第三百四十一条** 不动产权利人对相邻不动产的通风、采光、日照，应当予以方便，不得妨碍相邻不动产的正常使用。\\n\\n**第三百四十二条** 不动产权利人对相邻土地使用权的行使，应当有利于相邻土地的利用，不得妨碍相邻土地的正常使用。\\n\\n**第三百四十三条** 不动产权利人因使用相邻不动产造成损害的，应当给予相邻不动产权利人必要的补偿。\\n造成损害的，应当赔偿损失。\\n\\n**第三百四十四条** 不动产权利人对相邻不动产的排水、排污，应当采取必要措施，不得污染环境。\\n\\n**第三百四十五条** 不动产权利人对相邻土地使用权的行使，应当有利于相邻土地的利用，不得妨碍相邻土地的正常使用。\\n\\n**第三百四十六条** 不动产权利人对相邻不动产的通风、采光、日照，应当予以方便，不得妨碍相邻不动产的正常使用。\\n\\n**第三百四十七条** 不动产权利人因行使权利，给相邻不动产权利人造成损害的，应当依法承担民事责任。\\n\\n####',\n",
       " '第四节 所有权取得的特别规定\\n\\n**第三百四十八条** 拾得遗失物，应当返还权利人。拾得人应当及时通知权利人领取，或者送交公安等有关部门。\\n\\n**第三百四十九条** 遗失物自发布招领公告之日起一年内无人认领的，归国家所有。\\n\\n**第三百五十条** 权利人悬赏寻找遗失物的，领取遗失物时应当按照承诺向拾得人支付报酬。\\n拾得人侵占遗失物的，无权请求保管费等费用，也无权请求权利人支付报酬。\\n\\n**第三百五十一条** 发现埋藏物、隐藏物的，参照适用拾得遗失物的有关规定。\\n法律另有规定的，依照其规定。\\n\\n**第三百五十二条** 拾得漂流物、失散的饲养动物或者受到损害的财产，参照适用拾得遗失物的有关规定。\\n\\n###',\n",
       " '第三章 用益物权\\n\\n####',\n",
       " '第一节 一般规定\\n\\n**第三百五十三条** 用益物权人对他人所有的不动产或者动产，依法享有占有、使用和收益的权利。\\n\\n**第三百五十四条** 设立用益物权，当事人应当依照法律规定办理登记。\\n未经登记，不发生物权效力。\\n\\n**第三百五十五条** 用益物权人行使权利，不得损害所有权人的合法权益。\\n用益物权人不得转让、出租、担保其用益物权。法律另有规定或者当事人另有约定的除外。\\n\\n**第三百五十六条** 用益物权消灭的，登记机构应当依法办理注销登记。\\n\\n**第三百五十七条** 用益物权可以由当事人约定其内容。\\n法律、行政法规对用益物权有特别规定的，依照其规定。\\n\\n####',\n",
       " '第二节 土地承包经营权\\n\\n**第三百五十八条** 土地承包经营权人依照法律规定，对集体所有的土地和国家所有由集体经济组织承包的土地，享有占有、使用和收益的权利，有权从事种植业、林业、畜牧业等农业生产。\\n\\n**第三百五十九条** 土地承包经营权人可以按照法律规定，将土地承包经营权互换、转让。\\n当事人通过互换、转让方式取得土地承包经营权的，未经登记，不得对抗善意第三人。\\n\\n**第三百六十条** 土地承包经营权人依法对承包地享有占有、使用、收益的权利。\\n土地承包经营权人可以采取出租、入股或者其他方式流转土地经营权。\\n\\n**第三百六十一条** 土地承包经营权人可以根据法律规定，将土地承包经营权互换、转让。\\n互换、转让后，土地承包经营权人依法享有土地承包经营权。\\n\\n**第三百六十二条** 土地经营权人有权在合同约定的期限内占有农村土地，开展农业生产经营并取得收益。\\n\\n**第三百六十三条** 土地经营权人可以依照法律规定，将土地经营权转让、出租、入股或者以其他方式流转。\\n未经登记，不得对抗善意第三人。\\n\\n**第三百六十四条** 耕地的承包期为三十年。草地的承包期为三十年至五十年。林地的承包期为三十年至七十年。\\n\\n**第三百六十五条** 土地承包经营权人依法享有承包地上的生产经营自主权。\\n土地承包经营权人可以采取出租、入股或者其他方式流转土地经营权。\\n\\n**第三百六十六条** 承包期届满，由土地承包经营权人按照国家有关规定继续承包。\\n法律另有规定的，依照其规定。\\n\\n####',\n",
       " '第三节 建设用地使用权\\n\\n**第三百六十七条** 建设用地使用权人对国家所有的土地，依照法律规定享有占有、使用和收益的权利，有权利用该土地建造建筑物、构筑物及其附属设施。\\n\\n**第三百六十八条** 建设用地使用权可以在土地的地表、地上或者地下分别设立。\\n\\n**第三百六十九条** 设立建设用地使用权，可以采取出让或者划拨等方式。\\n工业、商业、旅游、娱乐和商品住宅等经营性用地以及同一宗土地有俩个以上意向用地者的，应当采取招标、拍卖等公开竞价的方式出让。\\n\\n**第三百七十条** 建设用地使用权设立后，当事人应当依照法律规定办理登记。\\n未经登记，不发生物权效力。\\n\\n**第三百七十一条** 建设用地使用权可以转让、互换、出资、赠与或者抵押，但是法律另有规定的除外。\\n转让建设用地使用权的，应当依照法律规定办理登记。\\n\\n**第三百七十二条** 建设用地使用权人依法对建设用地享有占有、使用、收益的权利。\\n建设用地使用权人有权在建设用地上建造建筑物、构筑物及其附属设施。\\n\\n**第三百七十三条** 建设用地使用权人依法享有土地上建筑物、构筑物及其附属设施的所有权。\\n建设用地使用权人有权利用该土地建造建筑物、构筑物及其附属设施。\\n\\n**第三百七十四条** 建设用地使用权期间届满，土地使用权人续期的，依照法律规定办理续期手续。\\n住宅建设用地使用权期间届满的，自动续期。续期费用的缴纳或者减免，依照法律、行政法规的规定办理。\\n\\n**第三百七十五条** 建设用地使用权期间届满，建设用地使用权消灭。\\n建设用地使用权期间届满，建设用地使用权人应当交还土地。\\n\\n**第三百七十六条** 建设用地使用权消灭的，登记机构应当依法办理注销登记。\\n建设用地使用权人应当按照约定向土地所有权人支付出让金。\\n\\n####',\n",
       " '第四节 宅基地使用权\\n\\n**第三百七十七条** 宅基地使用权人依法对集体所有的土地和国家所有由集体经济组织分配给个人的土地，享有占有、使用和收益的权利，有权在宅基地上建造房屋及其附属设施。\\n\\n**第三百七十八条** 宅基地使用权的设立、行使和转让，适用法律、法规的规定。\\n\\n**第三百七十九条** 宅基地使用权人依法享有宅基地上的房屋及其附属设施的所有权。\\n宅基地使用权人有权在宅基地上建造房屋及其附属设施。\\n\\n**第三百八十条** 宅基地使用权可以转让、互换、继承。\\n转让、互换宅基地使用权的，应当依照法律规定办理登记。\\n\\n**第三百八十一条** 宅基地使用权消灭的，登记机构应当依法办理注销登记。\\n宅基地使用权人应当依照法律规定，向土地所有权人支付宅基地使用费。\\n\\n####',\n",
       " '第五节 居住权\\n\\n**第三百八十二条** 居住权人有权依照合同约定或者遗嘱，对他人的住宅享有占有、使用的权利，以满足生活居住的需要。\\n\\n**第三百八十三条** 设立居住权，当事人应当依照法律规定办理登记。\\n未经登记，不发生物权效力。\\n\\n**第三百八十四条** 居住权不得转让、继承。\\n设立居住权的住宅不得出租，但是当事人另有约定的除外。\\n\\n**第三百八十五条** 居住权期间届满或者居住权人死亡的，居住权消灭。\\n居住权消灭的，登记机构应当依法办理注销登记。\\n\\n**第三百八十六条** 居住权人有权对居住权的住宅进行维修、养护，但不得改变住宅的用途。\\n居住权人对居住权的住宅享有占有、使用的权利。\\n\\n**第三百八十七条** 居住权人有权依照合同约定或者遗嘱，对他人的住宅享有占有、使用的权利，以满足生活居住的需要。\\n\\n####',\n",
       " '第六节 地役权\\n\\n**第三百八十八条** 地役权人有权依照合同约定，利用他人的不动产，以提高自己的不动产的效益。\\n前款所称他人的不动产为供役地，自己的不动产为需役地。\\n\\n**第三百八十九条** 地役权合同一般包括下列条款：\\n（一）当事人的姓名或者名称和住所；\\n（二）供役地和需役地的位置；\\n（三）地役权的目的和期限；\\n（四）利用供役地的方式；\\n（五）报酬及其支付方式；\\n（六）争议解决方式。\\n\\n**第三百九十条** 设立地役权，当事人应当依照法律规定办理登记。\\n未经登记，不得对抗善意第三人。\\n\\n**第三百九十一条** 地役权人有权依照合同约定，利用供役地，以提高需役地的效益。\\n地役权人行使权利，不得损害供役地权利人的合法权益。\\n\\n**第三百九十二条** 供役地权利人应当按照约定，允许地役权人利用其土地。\\n供役地权利人不得妨碍地役权人行使权利。\\n\\n**第三百九十三条** 地役权期限届满或者地役权人放弃地役权的，地役权消灭。\\n地役权消灭的，登记机构应当依法办理注销登记。\\n\\n**第三百九十四条** 地役权人应当按照合同约定支付报酬。\\n地役权人应当按照合同约定，以合理的方式利用供役地。\\n\\n**第三百九十五条** 地役权不得单独转让。土地承包经营权、建设用地使用权、宅基地使用权等权利转让的，地役权一并转让。\\n地役权不得单独抵押。土地承包经营权、建设用地使用权、宅基地使用权等权利抵押的，地役权一并抵押。\\n\\n**第三百九十六条** 地役权存续期间，供役地权利人将供役地转让、出租或者抵押的，地役权不受影响。\\n\\n**第三百九十七条** 地役权因供役地权利人将供役地转让、出租或者抵押而消灭的，地役权人有权请求赔偿损失。\\n地役权因供役地权利人将供役地转让、出租或者抵押而消灭的，地役权人可以向供役地权利人请求损害赔偿。\\n\\n**第三百九十八条** 地役权人有权依照合同约定，利用他人的不动产，以提高自己的不动产的效益。\\n前款所称他人的不动产为供役地，自己的不动产为需役地。\\n\\n###',\n",
       " '第四章 担保物权\\n\\n####',\n",
       " '第一节 一般规定\\n\\n**第三百九十九条** 担保物权人在债务人不履行到期债务或者发生当事人约定的实现担保物权的情形，有权依照法律规定以担保财产优先受偿。\\n\\n**第四百条** 担保物权包括抵押权、质权和留置权。\\n\\n**第四百零一条** 设立担保物权，当事人应当依照法律规定办理登记。\\n未经登记，不发生物权效力。\\n\\n**第四百零二条** 法律、行政法规对担保物权有特别规定的，依照其规定。\\n\\n**第四百零三条** 担保物权人在债务人不履行到期债务或者发生当事人约定的实现担保物权的情形，有权依照法律规定以担保财产优先受偿。\\n\\n**第四百零四条** 担保物权所担保的债权的范围，包括主债权及其利息、违约金、损害赔偿金和实现担保物权的费用。\\n当事人另有约定的，依照其约定。\\n\\n**第四百零五条** 债务人履行债务或者担保物权消灭的，担保物权消灭。\\n\\n**第四百零六条** 法律、行政法规对担保物权有特别规定的，依照其规定。\\n\\n**第四百零七条** 担保物权人有权对担保财产的孳息优先受偿。\\n当事人另有约定的，依照其约定。\\n\\n**第四百零八条** 担保物权消灭的，登记机构应当依法办理注销登记。\\n\\n####',\n",
       " '第二节 抵押权\\n\\n**第四百零九条** 抵押权人在债务人不履行到期债务或者发生当事人约定的实现抵押权的情形，有权依照法律规定以抵押财产优先受偿。\\n\\n**第四百一十条** 抵押合同一般包括下列条款：\\n（一）被担保债权的种类、数额；\\n（二）债务人履行债务的期限；\\n（三）抵押财产的名称、数量、质量、状况、所在地、所有权或者使用权；\\n（四）担保的范围。\\n\\n**第四百一十一条** 以建筑物和其他土地附着物、建设用地使用权、海域使用权、正在建造的建筑物、生产设备、原材料、半成品、产品、交通运输工具、船舶、航空器、机器设备等财产抵押的，当事人应当依照法律规定办理抵押登记。\\n未经登记，不发生物权效力。\\n\\n**第四百一十二条** 抵押权人在债务人不履行到期债务或者发生当事人约定的实现抵押权的情形，有权依照法律规定以抵押财产优先受偿。\\n\\n**第四百一十三条** 抵押人对抵押财产享有所有权或者处分权。\\n抵押人可以将自己的财产抵押，也可以将第三人的财产抵押。\\n第三人提供抵押的，可以书面形式承诺自愿为债务人提供担保。\\n\\n**第四百一十四条** 抵押权人有权对抵押财产的孳息优先受偿。\\n当事人另有约定的，依照其约定。\\n\\n**第四百一十五条** 抵押权所担保的债权的范围，包括主债权及其利息、违约金、损害赔偿金和实现抵押权的费用。\\n当事人另有约定的，依照其约定。\\n\\n**第四百一十六条** 抵押期间，抵押人未经抵押权人同意，不得转让抵押财产，但是受让人代为清偿债务或者向抵押权人提供担保的除外。\\n抵押人转让抵押财产的，转让所得的价款，应当向抵押权人提前清偿债务或者提存。\\n\\n**第四百一十七条** 抵押期间，抵押人转让抵押财产的，转让所得的价款，应当向抵押权人提前清偿债务或者提存。\\n转让的价款，应当优先用于清偿抵押权人所担保的债务。\\n\\n**第四百一十八条** 抵押财产被征收、征用、毁损或者灭失的，抵押权人有权就获得的补偿金、赔偿金或者保险金等优先受偿。\\n\\n**第四百一十九条** 抵押权人实现抵押权，可以与抵押人协议以抵押财产折价或者以拍卖、变卖该抵押财产所得的价款优先受偿。\\n协议损害其他债权人利益的，其他债权人可以请求人民法院撤销该协议。\\n抵押权人与抵押人未就抵押权的实现方式达成协议的，抵押权人可以请求人民法院拍卖、变卖抵押财产。\\n\\n**第四百二十条** 抵押权消灭的，登记机构应当依法办理注销登记。\\n抵押权人应当将不动产登记簿记载的抵押权注销。\\n\\n**第四百二十一条** 抵押权人有权对抵押财产的孳息优先受偿。\\n当事人另有约定的，依照其约定。\\n\\n**第四百二十二条** 抵押权所担保的债权的范围，包括主债权及其利息、违约金、损害赔偿金和实现抵押权的费用。\\n当事人另有约定的，依照其约定。\\n\\n**第四百二十三条** 抵押权人实现抵押权，可以与抵押人协议以抵押财产折价或者以拍卖、变卖该抵押财产所得的价款优先受偿。\\n协议损害其他债权人利益的，其他债权人可以请求人民法院撤销该协议。\\n抵押权人与抵押人未就抵押权的实现方式达成协议的，抵押权人可以请求人民法院拍卖、变卖抵押财产。\\n\\n**第四百二十四条** 抵押权人有权对抵押财产的孳息优先受偿。\\n当事人另有约定的，依照其约定。\\n\\n**第四百二十五条** 抵押权所担保的债权的范围，包括主债权及其利息、违约金、损害赔偿金和实现抵押权的费用。\\n当事人另有约定的，依照其约定。\\n\\n**第四百二十六条** 抵押权人实现抵押权，可以与抵押人协议以抵押财产折价或者以拍卖、变卖该抵押财产所得的价款优先受偿。\\n协议损害其他债权人利益的，其他债权人可以请求人民法院撤销该协议。\\n抵押权人与抵押人未就抵押权的实现方式达成协议的，抵押权人可以请求人民法院拍卖、变卖抵押财产。\\n\\n**第四百二十七条** 抵押权消灭的，登记机构应当依法办理注销登记。\\n抵押权人应当将不动产登记簿记载的抵押权注销。\\n\\n**第四百二十八条** 最高额抵押权是指为担保债务的履行，债务人或者第三人对一定期间内将要连续发生的债权提供担保的抵押权。\\n最高额抵押权所担保的债权确定前，抵押权人与抵押人可以协议变更债权确定期间、债权范围以及最高债权额。\\n\\n**第四百二十九条** 最高额抵押权所担保的债权确定前，抵押权人与抵押人可以协议变更债权确定期间、债权范围以及最高债权额。\\n最高额抵押权所担保的债权确定后，抵押人转让抵押财产的，转让所得的价款，应当向抵押权人提前清偿债务或者提存。\\n\\n**第四百三十条** 最高额抵押权所担保的债权确定后，抵押人转让抵押财产的，转让所得的价款，应当向抵押权人提前清偿债务或者提存。\\n转让的价款，应当优先用于清偿抵押权人所担保的债务。\\n\\n**第四百三十一条** 最高额抵押权所担保的债权确定后，抵押财产被征收、征用、毁损或者灭失的，抵押权人有权就获得的补偿金、赔偿金或者保险金等优先受偿。\\n\\n**第四百三十二条** 最高额抵押权所担保的债权确定后，抵押权人实现抵押权，可以与抵押人协议以抵押财产折价或者以拍卖、变卖该抵押财产所得的价款优先受偿。\\n协议损害其他债权人利益的，其他债权人可以请求人民法院撤销该协议。\\n抵押权人与抵押人未就抵押权的实现方式达成协议的，抵押权人可以请求人民法院拍卖、变卖抵押财产。\\n\\n**第四百三十三条** 最高额抵押权消灭的，登记机构应当依法办理注销登记。\\n抵押权人应当将不动产登记簿记载的抵押权注销。\\n\\n####',\n",
       " '第三节 质权\\n\\n#####',\n",
       " '一、动产质权\\n\\n**第四百三十四条** 质权人在债务人不履行到期债务或者发生当事人约定的实现质权的情形，有权依照法律规定以质押财产优先受偿。\\n\\n**第四百三十五条** 质押合同一般包括下列条款：\\n（一）被担保债权的种类、数额；\\n（二）债务人履行债务的期限；\\n（三）质押财产的名称、数量、质量、状况；\\n（四）担保的范围。\\n\\n**第四百三十六条** 设立质权，当事人应当依照法律规定办理登记。\\n未经登记，不发生物权效力。\\n\\n**第四百三十七条** 质权人在债务人不履行到期债务或者发生当事人约定的实现质权的情形，有权依照法律规定以质押财产优先受偿。\\n\\n**第四百三十八条** 质权人有权对质押财产的孳息优先受偿。\\n当事人另有约定的，依照其约定。\\n\\n**第四百三十九条** 质权所担保的债权的范围，包括主债权及其利息、违约金、损害赔偿金和实现质权的费用。\\n当事人另有约定的，依照其约定。\\n\\n**第四百四十条** 质权期间，质权人未经出质人同意，不得转让质押财产，但是受让人代为清偿债务或者向质权人提供担保的除外。\\n质权人转让质押财产的，转让所得的价款，应当向质权人提前清偿债务或者提存。\\n\\n**第四百四十一条** 质权人转让质押财产的，转让所得的价款，应当向质权人提前清偿债务或者提存。\\n转让的价款，应当优先用于清偿质权人所担保的债务。\\n\\n**第四百四十二条** 质押财产被征收、征用、毁损或者灭失的，质权人有权就获得的补偿金、赔偿金或者保险金等优先受偿。\\n\\n**第四百四十三条** 质权人实现质权，可以与出质人协议以质押财产折价或者以拍卖、变卖该质押财产所得的价款优先受偿。\\n协议损害其他债权人利益的，其他债权人可以请求人民法院撤销该协议。\\n质权人与出质人未就质权的实现方式达成协议的，质权人可以请求人民法院拍卖、变卖质押财产。\\n\\n**第四百四十四条** 质权消灭的，登记机构应当依法办理注销登记。\\n质权人应当将不动产登记簿记载的质权注销。\\n\\n**第四百四十五条** 质权人有权对质押财产的孳息优先受偿。\\n当事人另有约定的，依照其约定。\\n\\n**第四百四十六条** 质权所担保的债权的范围，包括主债权及其利息、违约金、损害赔偿金和实现质权的费用。\\n当事人另有约定的，依照其约定。\\n\\n**第四百四十七条** 质权人实现质权，可以与出质人协议以质押财产折价或者以拍卖、变卖该质押财产所得的价款优先受偿。\\n协议损害其他债权人利益的，其他债权人可以请求人民法院撤销该协议。\\n质权人与出质人未就质权的实现方式达成协议的，质权人可以请求人民法院拍卖、变卖质押财产。\\n\\n**第四百四十八条** 质权消灭的，登记机构应当依法办理注销登记。\\n质权人应当将不动产登记簿记载的质权注销。\\n\\n#####',\n",
       " '二、权利质权\\n\\n**第四百四十九条** 可以出质的权利包括：\\n（一）汇票、本票、支票；\\n（二）债券、存款单；\\n（三）仓单、提单；\\n（四）可以转让的基金份额、股权；\\n（五）可以转让的注册商标专用权、专利权、著作权等知识产权中的财产权；\\n（六）应收账款；\\n（七）法律、行政法规规定可以出质的其他财产权利。\\n\\n**第四百五十条** 以汇票、本票、支票、债券、存款单、仓单、提单出质的，当事人应当订立书面合同。质权自权利凭证交付之日起设立。\\n\\n**第四百五十一条** 以记名股票出质的，当事人应当订立书面合同。质权自股票交付之日起设立。\\n以未上市公司股权出质的，适用公司法有关股权转让的规定。\\n\\n**第四百五十二条** 以可以转让的基金份额、股权出质的，当事人应当订立书面合同。质权自基金份额、股权登记于证券登记结算机构或者公司章程载明的股权登记簿时设立。\\n以未上市公司股权出质的，适用公司法有关股权转让的规定。\\n\\n**第四百五十三条** 以可以转让的注册商标专用权、专利权、著作权等知识产权中的财产权出质的，当事人应当订立书面合同。质权自权利质押登记于相关部门时设立。\\n\\n**第四百五十四条** 以应收账款出质的，当事人应当订立书面合同。质权自应收账款质押登记于中国人民银行征信中心时设立。\\n\\n**第四百五十五条** 以法律、行政法规规定可以出质的其他财产权利出质的，依照法律、行政法规的规定。\\n\\n**第四百五十六条** 权利质权除适用本节规定外，参照适用本章动产质权的有关规定。\\n\\n####',\n",
       " '第四节 留置权\\n\\n**第四百五十七条** 债务人不履行到期债务，债权人可以留置其合法占有的债务人的动产，并有权就该动产优先受偿。\\n\\n**第四百五十八条** 留置的财产为可分物的，留置的价值应当与债权相当。\\n\\n**第四百五十九条** 债权人与债务人应当在合同中约定，债务人不履行到期债务，债权人可以留置其合法占有的债务人的动产，并有权就该动产优先受偿。\\n\\n**第四百六十条** 留置权人对留置财产负有妥善保管义务。\\n因保管不善致使留置财产毁损、灭失的，留置权人应当承担赔偿责任。\\n\\n**第四百六十一条** 债权人与债务人应当在合同中约定，债务人不履行到期债务，债权人可以留置其合法占有的债务人的动产，并有权就该动产优先受偿。\\n\\n**第四百六十二条** 留置权人与债务人应当在合同中约定，债务人不履行到期债务，债权人可以留置其合法占有的债务人的动产，并有权就该动产优先受偿。\\n\\n**第四百六十三条** 债务人履行债务或者留置权消灭的，留置权消灭。\\n\\n**第四百六十四条** 法律、行政法规对留置权有特别规定的，依照其规定。\\n\\n**第四百六十五条** 留置财产为可分物的，留置的价值应当与债权相当。\\n\\n**第四百六十六条** 债权人与债务人应当在合同中约定，债务人不履行到期债务，债权人可以留置其合法占有的债务人的动产，并有权就该动产优先受偿。\\n\\n**第四百六十七条** 留置权人对留置财产负有妥善保管义务。\\n因保管不善致使留置财产毁损、灭失的，留置权人应当承担赔偿责任。\\n\\n**第四百六十八条** 债权人与债务人应当在合同中约定，债务人不履行到期债务，债权人可以留置其合法占有的债务人的动产，并有权就该动产优先受偿。\\n\\n**第四百六十九条** 留置权人与债务人应当在合同中约定，债务人不履行到期债务，债权人可以留置其合法占有的债务人的动产，并有权就该动产优先受偿。\\n\\n**第四百七十条** 债务人履行债务或者留置权消灭的，留置权消灭。\\n\\n###',\n",
       " '第五章 占有\\n\\n**第四百七十一条** 占有是指对物事实上的控制和支配。\\n\\n**第四百七十二条** 占有可以分为直接占有和间接占有。\\n直接占有是指直接对物进行控制和支配。\\n间接占有是指通过他人对物进行控制和支配。\\n\\n**第四百七十三条** 占有的取得和消灭，适用本法有关物权设立和消灭的规定。\\n\\n**第四百七十四条** 占有人合法占有动产的，善意取得人取得该动产所有权。\\n占有人非法占有动产的，善意取得人取得该动产所有权。\\n\\n**第四百七十五条** 占有物毁损、灭失的，占有人应当承担赔偿责任。\\n占有人善意占有物的，不承担赔偿责任。\\n占有人恶意占有物的，应当承担赔偿责任。\\n\\n**第四百七十六条** 占有被侵夺的，占有人有权请求返还原物。\\n占有物毁损、灭失的，占有人有权请求赔偿损失。\\n\\n**第四百七十七条** 占有被侵夺的，占有人有权请求返还原物。\\n占有物毁损、灭失的，占有人有权请求赔偿损失。\\n\\n**第四百七十八条** 占有物毁损、灭失的，占有人应当承担赔偿责任。\\n占有人善意占有物的，不承担赔偿责任。\\n占有人恶意占有物的，应当承担赔偿责任。\\n\\n**第四百七十九条** 占有被侵夺的，占有人有权请求返还原物。\\n占有物毁损、灭失的，占有人有权请求赔偿损失。\\n\\n**第四百八十条** 占有物被侵夺的，占有人有权请求返还原物。\\n占有物毁损、灭失的，占有人有权请求赔偿损失。\\n\\n------\\n\\n##',\n",
       " '（三）合同编\\n\\n###',\n",
       " '第一章 一般规定\\n\\n**第四百八十一条** 为了保护合同当事人的合法权益，维护社会经济秩序，促进社会主义现代化建设，制定本编。\\n\\n**第四百八十二条** 本编调整因合同产生的民事关系。\\n\\n**第四百八十三条** 合同是民事主体之间设立、变更、终止民事法律关系的协议。\\n\\n**第四百八十四条** 当事人订立合同，可以采用书面形式、口头形式或者其他形式。\\n法律、行政法规规定采用书面形式的，应当采用书面形式。当事人约定采用书面形式的，应当采用书面形式。\\n\\n**第四百八十五条** 当事人可以参照各类合同的示范文本订立合同。\\n\\n**第四百八十六条** 合同内容由当事人约定，一般包括下列条款：\\n（一）当事人的姓名或者名称和住所；\\n（二）标的；\\n（三）数量；\\n（四）质量；\\n（五）价款或者报酬；\\n（六）履行期限、地点和方式；\\n（七）违约责任；\\n（八）解决争议的方法。\\n\\n**第四百八十七条** 合同的订立包括要约和承诺阶段。\\n\\n**第四百八十八条** 要约是希望与他人订立合同的意思表示，该意思表示应当符合下列规定：\\n（一）内容具体确定；\\n（二）表明经受要约人承诺，要约人即受该意思表示约束。\\n\\n**第四百八十九条** 要约邀请是希望他人向自己发出要约的表示。拍卖公告、招标公告、招股说明书、商业广告和寄送的价目表等为要约邀请。\\n商业广告的内容符合要约规定的，视为要约。\\n\\n**第四百九十条** 要约到达受要约人时生效。\\n要约人发出要约后，可以撤回要约。撤回要约的通知应当在要约到达受要约人之前或者与要约同时到达受要约人。\\n\\n**第四百九十一条** 要约可以撤销，但是有下列情形之一的不得撤销：\\n（一）要约人确定承诺期限或者以其他形式明示要约不可撤销；\\n（二）受要约人有理由认为要约是不可撤销的，并已经为履行合同作了准备工作。\\n\\n**第四百九十二条** 撤销要约的通知应当在受要约人发出承诺通知之前到达受要约人。\\n\\n**第四百九十三条** 有下列情形之一的，要约失效：\\n（一）要约人依法撤销要约；\\n（二）要约人拒绝要约；\\n（三）受要约人对要约的内容作出实质性变更；\\n（四）承诺期限届满，受要约人未作出承诺；\\n（五）受要约人拒绝要约。\\n\\n**第四百九十四条** 承诺是对要约的同意。\\n承诺应当以通知的方式作出，但是根据交易习惯或者要约表明可以通过行为作出承诺的除外。\\n\\n**第四百九十五条** 承诺应当在要约确定的期限内到达要约人。\\n要约没有确定承诺期限的，承诺应当在合理期限内到达要约人。\\n以对话方式作出的承诺，应当即时作出。\\n\\n**第四百九十六条** 承诺生效时合同成立。\\n当事人采用合同书形式订立合同的，自双方当事人签字或者盖章时合同成立。\\n\\n**第四百九十七条** 承诺的内容应当与要约的内容一致。受要约人对要约的内容作出实质性变更的，为新要约。\\n有关合同标的、数量、质量、价款或者报酬、履行期限、履行地点和方式、违约责任和解决争议方法等的变更，是对要约内容的实质性变更。\\n\\n**第四百九十八条** 承诺对要约的内容作出非实质性变更的，除要约人及时表示反对或者要约表明不得对内容作出任何变更的以外，该承诺有效，合同的内容以承诺的内容为准。\\n\\n**第四百九十九条** 采用书面形式订立合同，当事人均签名、盖章或者按指印，合同成立。\\n当事人约定采用书面形式订立合同，但是未采用书面形式，一方已经履行主要义务，对方接受时，该合同成立。\\n\\n**第五百条** 当事人在订立合同过程中，有下列情形之一，造成对方损失的，应当承担赔偿责任：\\n（一）假借订立合同，恶意进行磋商；\\n（二）故意隐瞒与订立合同有关的重要事实或者提供虚假情况；\\n（三）有其他违背诚信原则的行为。\\n\\n**第五百零一条** 当事人在订立合同过程中知悉的商业秘密或者其他应当保密的信息，无论合同是否成立，都不得泄露或者不正当地使用。泄露、不正当地使用该商业秘密或者信息，造成对方损失的，应当承担赔偿责任。\\n\\n**第五百零二条** 合同成立时生效，但是法律另有规定或者当事人另有约定的除外。\\n依照法律、行政法规的规定，合同应当办理批准等手续的，依照其规定。\\n\\n**第五百零三条** 当事人对合同的效力可以约定附条件。\\n附生效条件的合同，自条件成就时生效。\\n附解除条件的合同，自条件成就时失效。\\n当事人为自己的利益不正当地阻止条件成就的，视为条件已经成就；不正当地促成条件成就的，视为条件不成就。\\n\\n**第五百零四条** 当事人对合同的效力可以约定附期限。\\n附生效期限的合同，自期限届至时生效。\\n附终止期限的合同，自期限届满时终止。\\n\\n**第五百零五条** 当事人约定债务人或者第三人向债权人给付定金作为债权的担保的，给付定金的一方不履行债务或者履行债务不符合约定，致使不能实现合同目的的，无权请求返还定金；收受定金的一方不履行债务或者履行债务不符合约定，致使不能实现合同目的的，应当双倍返还定金。\\n\\n**第五百零六条** 定金的数额由当事人约定，但是不得超过主合同标的额的百分之二十。\\n超过法定限额的部分，人民法院不予支持。\\n\\n**第五百零七条** 债务人履行债务时，定金应当抵作价款或者收回。\\n\\n**第五百零八条** 合同解除的，不影响当事人请求赔偿损失的权利。\\n\\n**第五百零九条** 法律、行政法规规定或者当事人约定合同生效应当办理批准等手续的，依照其规定。未办理批准等手续的，合同不生效，但是法律另有规定的除外。\\n\\n**第五百一十条** 合同生效后，当事人应当按照约定全面履行自己的义务。\\n当事人应当遵循诚信原则，根据合同的性质、目的和交易习惯履行通知、协助、保密等义务。\\n\\n**第五百一十一条** 合同生效后，当事人就质量、价款或者报酬、履行地点等内容没有约定或者约定不明确的，可以协议补充；不能达成补充协议的，按照合同有关条款或者交易习惯确定。\\n\\n**第五百一十二条** 当事人就有关合同内容约定不明确，依照本法第五百一十一条的规定仍不能确定的，适用下列规定：\\n（一）质量要求不明确的，按照国家标准、行业标准履行；没有国家标准、行业标准的，按照通常标准或者符合合同目的的特定标准履行。\\n（二）价款或者报酬不明确的，按照订立合同时履行地的市场价格履行；依法应当执行政府定价或者政府指导价的，依照规定履行。\\n（三）履行地点不明确，给付货币的，在接受货币一方所在地履行；交付不动产的，在不动产所在地履行；其他标的，在履行义务一方所在地履行。\\n（四）履行期限不明确的，债务人可以随时履行，债权人也可以随时请求履行，但是应当给对方必要的准备时间。\\n（五）履行方式不明确的，按照有利于实现合同目的的方式履行。\\n（六）履行费用负担不明确的，由履行义务一方负担；因债权人原因增加的履行费用，由债权人负担。\\n\\n**第五百一十三条** 合同不生效、无效、被撤销或者终止的，不影响合同中独立存在的有关解决争议方法的条款的效力。\\n\\n**第五百一十四条** 合同当事人对合同的效力有争议的，在争议解决前，除法律另有规定外，不得中止履行合同。\\n\\n**第五百一十五条** 当事人对合同的性质有争议的，依照法律规定或者交易习惯确定。\\n\\n**第五百一十六条** 当事人对合同的条款理解有争议的，应当按照合同所使用的词句、有关条款、合同的性质、目的、交易习惯以及诚实信用原则，确定意思表示的真实含义。\\n合同文本采用两种以上文字订立并约定具有同等效力的，对各文本使用的词句推定具有相同含义。各文本使用的词句不一致的，应当根据合同的目的予以解释。\\n\\n**第五百一十七条** 合同中的下列免责条款无效：\\n（一）造成对方人身损害的；\\n（二）因故意或者重大过失造成对方财产损失的。\\n\\n**第五百一十八条** 合同约定减轻或者免除其造成对方人身损害的责任，或者减轻或者免除其因故意或者重大过失造成对方财产损失的责任的，该条款无效。\\n\\n**第五百一十九条** 当事人可以在合同中约定，一方违约时应当向对方支付一定数额的违约金；也可以约定因违约产生的损失赔偿额的计算方法。\\n约定的违约金低于造成的损失的，人民法院或者仲裁机构可以根据当事人的请求予以增加；约定的违约金过分高于造成的损失的，人民法院或者仲裁机构可以根据当事人的请求予以适当减少。\\n\\n**第五百二十条** 当事人就迟延履行约定违约金的，违约方支付违约金后，还应当履行债务。\\n\\n**第五百二十一条** 当事人就迟延履行约定违约金的，违约方支付违约金后，还应当履行债务。\\n\\n**第五百二十二条** 当事人可以约定，当一方违约时，向另一方支付一定数额的违约金。\\n约定的违约金低于造成的损失的，人民法院或者仲裁机构可以根据当事人的请求予以增加；约定的违约金过分高于造成的损失的，人民法院或者仲裁机构可以根据当事人的请求予以适当减少。\\n\\n###',\n",
       " '第二章 合同的履行\\n\\n**第五百二十三条** 当事人应当按照约定全面履行自己的义务。\\n\\n**第五百二十四条** 当事人应当遵循诚信原则，根据合同的性质、目的和交易习惯履行通知、协助、保密等义务。\\n\\n**第五百二十五条** 当事人互负债务，没有先后履行顺序的，应当同时履行。一方在对方履行之前有权拒绝其履行请求。一方在对方履行债务不符合约定时，有权拒绝其相应的履行请求。\\n\\n**第五百二十六条** 当事人互负债务，有先后履行顺序，先履行一方未履行的，后履行一方有权拒绝其履行请求。先履行一方履行债务不符合约定的，后履行一方有权拒绝其相应的履行请求。\\n\\n**第五百二十七条** 应当先履行债务的当事人，有确切证据证明对方有下列情形之一的，可以中止履行：\\n（一）经营状况严重恶化；\\n（二）转移财产、抽逃资金，以逃避债务；\\n（三）丧失商业信誉；\\n（四）有丧失或者可能丧失履行债务能力的其他情形。\\n当事人没有确切证据中止履行的，应当承担违约责任。\\n\\n**第五百二十八条** 当事人中止履行后，应当及时通知对方。对方提供适当担保时，应当恢复履行。中止履行后，对方在合理期限内未恢复履行能力并且未提供适当担保的，中止履行的一方可以解除合同。\\n\\n**第五百二十九条** 债权人可以拒绝债务人提前履行债务，但是提前履行不损害债权人利益的除外。\\n债务人提前履行债务给债权人增加的费用，由债务人负担。\\n\\n**第五百三十条** 债权人可以拒绝债务人部分履行债务，但是部分履行不损害债权人利益的除外。\\n债务人部分履行债务给债权人增加的费用，由债务人负担。\\n\\n**第五百三十一条** 债务人履行债务时，债权人应当受领。\\n债权人无正当理由拒绝受领的，债务人可以将标的物提存。\\n\\n**第五百三十二条** 提存期间，标的物毁损、灭失的风险由债权人承担。提存费用由债权人负担。\\n\\n**第五百三十三条** 债权人可以拒绝债务人提前履行债务，但是提前履行不损害债权人利益的除外。\\n债务人提前履行债务给债权人增加的费用，由债务人负担。\\n\\n**第五百三十四条** 债权人可以拒绝债务人部分履行债务，但是部分履行不损害债权人利益的除外。\\n债务人部分履行债务给债权人增加的费用，由债务人负担。\\n\\n**第五百三十五条** 债权人行使代位权的，可以代位行使债务人的债权，但该债权专属于债务人自身的除外。\\n代位权的行使范围以债权人的债权为限。债权人行使代位权的必要费用，由债务人负担。\\n\\n**第五百三十六条** 债务人怠于行使其对第三人的债权或者与该债权有关的从权利，影响债权人的到期债权实现的，债权人可以向人民法院请求以自己的名义代位行使债务人的债权。\\n\\n**第五百三十七条** 债权人行使撤销权的，可以请求人民法院撤销债务人以明显不合理的低价转让财产，或者以明显不合理的高价受让他人财产的行为。\\n撤销权的行使范围以债权人的债权为限。\\n\\n**第五百三十八条** 债务人无偿转让财产，对债权人造成损害的，债权人可以请求人民法院撤销债务人的行为。\\n\\n**第五百三十九条** 债务人以明显不合理的低价转让财产、以明显不合理的高价受让他人财产，或者为他人的债务提供担保，对债权人造成损害，并且受让人知道该情形的，债权人可以请求人民法院撤销债务人的行为。\\n\\n**第五百四十条** 撤销权的行使范围以债权人的债权为限。\\n债权人行使撤销权的必要费用，由债务人负担。\\n\\n**第五百四十一条** 撤销权自债权人知道或者应当知道撤销事由之日起一年内行使。自债务人的行为发生之日起五年内没有行使撤销权的，该撤销权消灭。\\n\\n**第五百四十二条** 当事人互负债务，标的物种类、品质相同的，任何一方可以将自己的债务与对方的债务抵销，但是依照法律规定或者当事人约定不得抵销的除外。\\n当事人主张抵销的，应当通知对方。通知自到达对方时生效。抵销不得附条件或者附期限。\\n\\n**第五百四十三条** 当事人互负债务，标的物种类、品质相同的，任何一方可以将自己的债务与对方的债务抵销，但是依照法律规定或者当事人约定不得抵销的除外。\\n当事人主张抵销的，应当通知对方。通知自到达对方时生效。抵销不得附条件或者附期限。\\n\\n**第五百四十四条** 当事人互负债务，标的物种类、品质相同的，任何一方可以将自己的债务与对方的债务抵销，但是依照法律规定或者当事人约定不得抵销的除外。\\n当事人主张抵销的，应当通知对方。通知自到达对方时生效。抵销不得附条件或者附期限。\\n\\n**第五百四十五条** 当事人互负债务，标的物种类、品质相同的，任何一方可以将自己的债务与对方的债务抵销，但是依照法律规定或者当事人约定不得抵销的除外。\\n当事人主张抵销的，应当通知对方。通知自到达对方时生效。抵销不得附条件或者附期限。\\n\\n**第五百四十六条** 当事人互负债务，标的物种类、品质相同的，任何一方可以将自己的债务与对方的债务抵销，但是依照法律规定或者当事人约定不得抵销的除外。\\n当事人主张抵销的，应当通知对方。通知自到达对方时生效。抵销不得附条件或者附期限。\\n\\n**第五百四十七条** 债务人可以将标的物提存。\\n提存期间，标的物毁损、灭失的风险由债权人承担。提存费用由债权人负担。\\n\\n###',\n",
       " '第三章 合同的变更和转让\\n\\n**第五百四十八条** 当事人协商一致，可以变更合同。\\n\\n**第五百四十九条** 当事人对合同变更的内容约定不明确的，推定为未变更。\\n\\n**第五百五十条** 债权人可以将合同的权利全部或者部分转让给第三人，但是有下列情形之一的除外：\\n（一）根据合同性质不得转让；\\n（二）按照当事人约定不得转让；\\n（三）依照法律规定不得转让。\\n债权人转让权利的，应当通知债务人。未经通知，该转让对债务人不发生效力。\\n\\n**第五百五十一条** 债权人转让权利的，受让人取得与债权有关的从权利，但是该从权利专属于债权人自身的除外。\\n\\n**第五百五十二条** 债务人将合同的义务全部或者部分转让给第三人的，应当经债权人同意。\\n\\n**第五百五十三条** 债务人转让义务的，新债务人可以主张原债务人对债权人的抗辩。\\n新债务人承担债务的，应当承担与主债务有关的从债务，但是该从债务专属于原债务人自身的除外。\\n\\n**第五百五十四条** 当事人一方经对方同意，可以将自己在合同中的权利和义务一并转让给第三人。\\n\\n**第五百五十五条** 权利和义务一并转让的，适用债权转让、债务转让的有关规定。\\n\\n**第五百五十六条** 合同变更的，不影响当事人请求损害赔偿的权利。\\n\\n###',\n",
       " '第四章 合同的权利义务终止\\n\\n**第五百五十七条** 有下列情形之一的，合同的权利义务终止：\\n（一）债务已经履行；\\n（二）合同解除；\\n（三）债务相互抵销；\\n（四）债务人依法将标的物提存；\\n（五）债权人免除债务；\\n（六）债权债务同归一人；\\n（七）法律规定或者当事人约定终止的其他情形。\\n\\n**第五百五十八条** 合同终止后，当事人应当遵循诚信原则，根据交易习惯履行通知、协助、保密等义务。\\n\\n**第五百五十九条** 合同的权利义务终止后，当事人应当履行清理义务。\\n\\n**第五百六十条** 当事人一方依照法律规定或者合同约定解除合同的，合同的权利义务终止。\\n\\n**第五百六十一条** 当事人一方不履行合同义务或者履行合同义务不符合约定的，对方有权请求其承担违约责任。\\n\\n**第五百六十二条** 有下列情形之一的，当事人可以解除合同：\\n（一）因不可抗力致使不能实现合同目的；\\n（二）在履行期限届满前，一方明确表示或者以自己的行为表明不履行主要债务；\\n（三）一方迟延履行主要债务，经催告后在合理期限内仍未履行；\\n（四）一方迟延履行债务或者有其他违约行为致使不能实现合同目的；\\n（五）法律规定的其他情形。\\n\\n**第五百六十三条** 当事人可以约定一方解除合同的事由。解除合同的事由发生时，解除权人可以解除合同。\\n\\n**第五百六十四条** 法律规定或者当事人约定解除权行使期限，期限届满当事人不行使的，该权利消灭。\\n法律没有规定或者当事人没有约定解除权行使期限，经对方催告后在合理期限内不行使的，该权利消灭。\\n\\n**第五百六十五条** 当事人一方解除合同的，应当通知对方。合同自通知到达对方时解除；通知载明债务人在一定期限内不履行债务则合同自动解除，债务人在该期限内未履行债务的，合同自期限届满时解除。\\n对方有异议的，可以请求人民法院或者仲裁机构确认解除行为的效力。\\n\\n**第五百六十六条** 合同解除后，尚未履行的，终止履行；已经履行的，根据履行情况和合同性质，当事人可以请求恢复原状或者采取其他补救措施，并有权请求赔偿损失。\\n合同因违约解除的，解除权人可以请求违约方承担违约责任。\\n\\n**第五百六十七条** 合同的权利义务终止后，当事人应当履行清理义务。\\n合同终止后，当事人可以约定合同终止后的权利义务。\\n法律、行政法规对合同终止后的权利义务有特别规定的，依照其规定。\\n\\n**第五百六十八条** 债权人免除债务人部分或者全部债务的，合同的权利义务部分或者全部终止。\\n\\n**第五百六十九条** 债权和债务同归一人，合同的权利义务终止，但是不损害第三人利益的除外。\\n\\n**第五百七十条** 合同解除的，不影响当事人请求赔偿损失的权利。\\n\\n###',\n",
       " '第五章 违约责任\\n\\n**第五百七十一条** 当事人一方不履行合同义务或者履行合同义务不符合约定的，应当承担继续履行、采取补救措施或者赔偿损失等违约责任。\\n\\n**第五百七十二条** 当事人一方不履行非主要债务或者履行非主要债务不符合约定的，对方可以在合理期限内请求其履行。\\n\\n**第五百七十三条** 当事人一方迟延履行债务或者有其他违约行为致使不能实现合同目的，对方可以请求解除合同。\\n\\n**第五百七十四条** 当事人约定违约金的，一方违约时应当向对方支付违约金。\\n约定的违约金低于造成的损失的，人民法院或者仲裁机构可以根据当事人的请求予以增加；约定的违约金过分高于造成的损失的，人民法院或者仲裁机构可以根据当事人的请求予以适当减少。\\n\\n**第五百七十五条** 当事人就迟延履行约定违约金的，违约方支付违约金后，还应当履行债务。\\n\\n**第五百七十六条** 损害赔偿的范围，包括因违约造成的损失，以及合同履行后可以获得的利益；但是，不得超过违约方订立合同时预见到或者应当预见到的因违约可能造成的损失。\\n\\n**第五百七十七条** 当事人一方不履行合同义务或者履行合同义务不符合约定，给对方造成损失的，损失赔偿额应当相当于因违约所造成的损失，包括合同履行后可以获得的利益；但是，不得超过违约方订立合同时预见到或者应当预见到的因违约可能造成的损失。\\n\\n**第五百七十八条** 当事人一方不履行合同义务或者履行合同义务不符合约定，给对方造成损失的，对方可以请求赔偿损失。\\n\\n**第五百七十九条** 当事人一方不履行非主要债务或者履行非主要债务不符合约定的，对方可以在合理期限内请求其履行。\\n\\n**第五百八十条** 当事人一方不履行非主要债务或者履行非主要债务不符合约定的，对方可以在合理期限内请求其履行。\\n\\n**第五百八十一条** 当事人一方不履行非主要债务或者履行非主要债务不符合约定的，对方可以在合理期限内请求其履行。\\n\\n**第五百八十二条** 当事人一方违约后，对方应当采取适当措施防止损失的扩大；没有采取适当措施致使损失扩大的，不得就扩大的损失请求赔偿。\\n当事人因防止损失扩大而支出的合理费用，由违约方承担。\\n\\n**第五百八十三条** 当事人一方因不可抗力不能履行合同的，根据不可抗力的影响，部分或者全部免除责任，但是法律另有规定的除外。因不可抗力不能履行合同的，应当及时通知对方，以减轻可能给对方造成的损失，并应当在合理期限内提供证明。\\n\\n**第五百八十四条** 当事人互负债务，有先后履行顺序，先履行一方未履行的，后履行一方有权拒绝其履行请求。先履行一方履行债务不符合约定的，后履行一方有权拒绝其相应的履行请求。\\n\\n**第五百八十五条** 当事人约定金钱债务的，一方不履行债务或者履行债务不符合约定，致使不能实现合同目的的，对方可以请求支付违约金。\\n\\n**第五百八十六条** 当事人可以约定一方向对方给付定金作为债权的担保。定金合同自实际交付定金时成立。\\n定金的数额由当事人约定，但是不得超过主合同标的额的百分之二十。超过法定限额的部分，人民法院不予支持。\\n\\n**第五百八十七条** 债务人履行债务时，定金应当抵作价款或者收回。给付定金的一方不履行债务或者履行债务不符合约定，致使不能实现合同目的的，无权请求返还定金；收受定金的一方不履行债务或者履行债务不符合约定，致使不能实现合同目的的，应当双倍返还定金。\\n\\n**第五百八十八条** 当事人既约定违约金，又约定定金的，一方违约时，对方可以选择适用违约金或者定金条款。\\n\\n**第五百八十九条** 法律另有规定的，依照其规定。']"
      ]
     },
     "execution_count": 35,
     "metadata": {},
     "output_type": "execute_result"
    }
   ],
   "source": [
    "text_lines"
   ]
  },
  {
   "cell_type": "code",
   "execution_count": 36,
   "id": "01b73e74-ee7d-4daf-b7db-1c7a10bfc0bf",
   "metadata": {},
   "outputs": [
    {
     "data": {
      "text/plain": [
       "102"
      ]
     },
     "execution_count": 36,
     "metadata": {},
     "output_type": "execute_result"
    }
   ],
   "source": [
    "len(text_lines)"
   ]
  },
  {
   "cell_type": "markdown",
   "id": "4cc2a0b8",
   "metadata": {},
   "source": [
    "### 准备 LLM 和 Embedding 模型"
   ]
  },
  {
   "cell_type": "markdown",
   "id": "19eaff7a",
   "metadata": {},
   "source": [
    "DeepSeek 支持 OpenAI 风格的 API，您可以使用相同的 API 进行微小调整来调用 LLM。"
   ]
  },
  {
   "cell_type": "code",
   "execution_count": 37,
   "id": "b994eb47",
   "metadata": {},
   "outputs": [],
   "source": [
    "from openai import OpenAI\n",
    "\n",
    "deepseek_client = OpenAI(\n",
    "    api_key=api_key,\n",
    "    base_url=\"https://api.deepseek.com/v1\",  # DeepSeek API 的基地址\n",
    ")"
   ]
  },
  {
   "cell_type": "markdown",
   "id": "1cc5a5e2",
   "metadata": {},
   "source": [
    "定义一个 embedding 模型，使用 `milvus_model` 来生成文本嵌入。我们以 `DefaultEmbeddingFunction` 模型为例，这是一个预训练的轻量级嵌入模型。"
   ]
  },
  {
   "cell_type": "code",
   "execution_count": 38,
   "id": "3a94242a",
   "metadata": {},
   "outputs": [
    {
     "name": "stdout",
     "output_type": "stream",
     "text": [
      "200\n"
     ]
    }
   ],
   "source": [
    "from pymilvus import model as milvus_model\n",
    "import os\n",
    "\n",
    "# 改成你的 V2rayN 代理端口\n",
    "os.environ[\"http_proxy\"] = \"http://192.168.22.251:10809\"\n",
    "os.environ[\"https_proxy\"] = \"http://192.168.22.251:10809\"\n",
    "\n",
    "# 验证一下\n",
    "import requests\n",
    "print(requests.get(\"https://huggingface.co\").status_code)\n",
    "\n",
    "embedding_model = milvus_model.DefaultEmbeddingFunction()"
   ]
  },
  {
   "cell_type": "markdown",
   "id": "93fb1696",
   "metadata": {},
   "source": [
    "生成一个测试嵌入并打印其维度和前几个元素。"
   ]
  },
  {
   "cell_type": "code",
   "execution_count": 39,
   "id": "88a27567",
   "metadata": {},
   "outputs": [
    {
     "name": "stdout",
     "output_type": "stream",
     "text": [
      "768\n",
      "[-0.04836059  0.07163021 -0.01130063 -0.03789341 -0.03320651 -0.01318453\n",
      " -0.03041721 -0.02269495 -0.02317858 -0.00426026]\n"
     ]
    }
   ],
   "source": [
    "test_embedding = embedding_model.encode_queries([\"This is a test\"])[0]\n",
    "embedding_dim = len(test_embedding)\n",
    "print(embedding_dim)\n",
    "print(test_embedding[:10])"
   ]
  },
  {
   "cell_type": "code",
   "execution_count": 40,
   "id": "f7683f3a-d9e4-4c8e-9a66-c341911bef6b",
   "metadata": {},
   "outputs": [
    {
     "name": "stdout",
     "output_type": "stream",
     "text": [
      "[-0.02752976  0.0608853   0.00388525 -0.00215193 -0.02774976 -0.0118618\n",
      " -0.04020916 -0.06023417 -0.03813156  0.0100272 ]\n"
     ]
    }
   ],
   "source": [
    "test_embedding_0 = embedding_model.encode_queries([\"That is a test\"])[0]\n",
    "print(test_embedding_0[:10])"
   ]
  },
  {
   "cell_type": "markdown",
   "id": "5a778887",
   "metadata": {},
   "source": [
    "## 将数据加载到 Milvus"
   ]
  },
  {
   "cell_type": "markdown",
   "id": "02b23a24",
   "metadata": {},
   "source": [
    "### 创建 Collection"
   ]
  },
  {
   "cell_type": "code",
   "execution_count": 41,
   "id": "95e84b8c",
   "metadata": {},
   "outputs": [],
   "source": [
    "from pymilvus import MilvusClient\n",
    "\n",
    "milvus_client = MilvusClient(uri=\"./milvus_demo.db\")\n",
    "\n",
    "collection_name = \"my_rag_collection\""
   ]
  },
  {
   "cell_type": "markdown",
   "id": "68648561",
   "metadata": {},
   "source": [
    "关于 `MilvusClient` 的参数：\n",
    "\n",
    "*   将 `uri` 设置为本地文件，例如 `./milvus.db`，是最方便的方法，因为它会自动利用 Milvus Lite 将所有数据存储在此文件中。\n",
    "*   如果您有大规模数据，可以在 Docker 或 Kubernetes 上设置性能更高的 Milvus 服务器。在此设置中，请使用服务器 URI，例如 `http://localhost:19530`，作为您的 `uri`。\n",
    "*   如果您想使用 Zilliz Cloud（Milvus 的完全托管云服务），请调整 `uri` 和 `token`，它们对应 Zilliz Cloud 中的 Public Endpoint 和 Api key。"
   ]
  },
  {
   "cell_type": "markdown",
   "id": "5ce1bf3e",
   "metadata": {},
   "source": [
    "检查 collection 是否已存在，如果存在则删除它。"
   ]
  },
  {
   "cell_type": "code",
   "execution_count": 42,
   "id": "aee85c08",
   "metadata": {},
   "outputs": [],
   "source": [
    "if milvus_client.has_collection(collection_name):\n",
    "    milvus_client.drop_collection(collection_name)"
   ]
  },
  {
   "cell_type": "markdown",
   "id": "73eb379f",
   "metadata": {},
   "source": [
    "创建一个具有指定参数的新 collection。\n",
    "\n",
    "如果我们不指定任何字段信息，Milvus 将自动创建一个默认的 `id` 字段作为主键，以及一个 `vector` 字段来存储向量数据。一个保留的 JSON 字段用于存储非 schema 定义的字段及其值。\n",
    "\n",
    "`metric_type` (距离度量类型):\n",
    "     作用：定义如何计算向量之间的相似程度。\n",
    "     例如：`IP` (内积) - 值越大通常越相似；`L2` (欧氏距离) - 值越小越相似；`COSINE` (余弦相似度) - 通常转换为距离，值越小越相似。\n",
    "     选择依据：根据你的嵌入模型的特性和期望的相似性定义来选择。\n",
    "\n",
    " `consistency_level` (一致性级别):\n",
    "     作用：定义数据写入后，读取操作能多快看到这些新数据。\n",
    "     例如：\n",
    "         `Strong` (强一致性): 总是读到最新数据，可能稍慢。\n",
    "         `Bounded` (有界过期): 可能读到几秒内旧数据，性能较好 (默认)。\n",
    "         `Session` (会话一致性): 自己写入的自己能立刻读到。\n",
    "         `Eventually` (最终一致性): 最终会读到新数据，但没时间保证，性能最好。\n",
    "     选择依据：在数据实时性要求和系统性能之间做权衡。\n",
    "\n",
    "简单来说：\n",
    " `metric_type`：怎么算相似。\n",
    " `consistency_level`：新数据多久能被读到。"
   ]
  },
  {
   "cell_type": "code",
   "execution_count": 43,
   "id": "bd0b2df8",
   "metadata": {},
   "outputs": [],
   "source": [
    "milvus_client.create_collection(\n",
    "    collection_name=collection_name,\n",
    "    dimension=embedding_dim,\n",
    "    metric_type=\"IP\",  # 内积距离\n",
    "    consistency_level=\"Strong\",  # 支持的值为 (`\"Strong\"`, `\"Session\"`, `\"Bounded\"`, `\"Eventually\"`)。更多详情请参见 https://milvus.io/docs/consistency.md#Consistency-Level。\n",
    ")"
   ]
  },
  {
   "cell_type": "markdown",
   "id": "9c15bafb",
   "metadata": {},
   "source": [
    "### 插入数据"
   ]
  },
  {
   "cell_type": "markdown",
   "id": "171d3b35",
   "metadata": {},
   "source": [
    "遍历文本行，创建嵌入，然后将数据插入 Milvus。\n",
    "\n",
    "这里有一个新字段 `text`，它是在 collection schema 中未定义的字段。它将自动添加到保留的 JSON 动态字段中，该字段在高级别上可以被视为普通字段。"
   ]
  },
  {
   "cell_type": "code",
   "execution_count": 44,
   "id": "ad077094",
   "metadata": {},
   "outputs": [
    {
     "name": "stderr",
     "output_type": "stream",
     "text": [
      "Creating embeddings: 100%|██████████| 102/102 [00:00<00:00, 353569.43it/s]\n"
     ]
    },
    {
     "data": {
      "text/plain": [
       "{'insert_count': 102, 'ids': [0, 1, 2, 3, 4, 5, 6, 7, 8, 9, 10, 11, 12, 13, 14, 15, 16, 17, 18, 19, 20, 21, 22, 23, 24, 25, 26, 27, 28, 29, 30, 31, 32, 33, 34, 35, 36, 37, 38, 39, 40, 41, 42, 43, 44, 45, 46, 47, 48, 49, 50, 51, 52, 53, 54, 55, 56, 57, 58, 59, 60, 61, 62, 63, 64, 65, 66, 67, 68, 69, 70, 71, 72, 73, 74, 75, 76, 77, 78, 79, 80, 81, 82, 83, 84, 85, 86, 87, 88, 89, 90, 91, 92, 93, 94, 95, 96, 97, 98, 99, 100, 101], 'cost': 0}"
      ]
     },
     "execution_count": 44,
     "metadata": {},
     "output_type": "execute_result"
    }
   ],
   "source": [
    "from tqdm import tqdm\n",
    "\n",
    "data = []\n",
    "\n",
    "doc_embeddings = embedding_model.encode_documents(text_lines)\n",
    "\n",
    "for i, line in enumerate(tqdm(text_lines, desc=\"Creating embeddings\")):\n",
    "    data.append({\"id\": i, \"vector\": doc_embeddings[i], \"text\": line})\n",
    "\n",
    "milvus_client.insert(collection_name=collection_name, data=data)"
   ]
  },
  {
   "cell_type": "markdown",
   "id": "bd971f6b",
   "metadata": {},
   "source": [
    "## 构建 RAG"
   ]
  },
  {
   "cell_type": "markdown",
   "id": "534dc076",
   "metadata": {},
   "source": [
    "### 检索查询数据"
   ]
  },
  {
   "cell_type": "markdown",
   "id": "5a6fd7e7",
   "metadata": {},
   "source": [
    "我们指定一个关于 Milvus 的常见问题。"
   ]
  },
  {
   "cell_type": "code",
   "execution_count": 25,
   "id": "6e2f5c6a",
   "metadata": {},
   "outputs": [],
   "source": [
    "question = \"The principle of data querying in the Milvus database?\""
   ]
  },
  {
   "cell_type": "markdown",
   "id": "52401a38",
   "metadata": {},
   "source": [
    "在 collection 中搜索该问题，并检索语义上最匹配的前3个结果。"
   ]
  },
  {
   "cell_type": "code",
   "execution_count": 26,
   "id": "0dd4cbac",
   "metadata": {},
   "outputs": [],
   "source": [
    "search_res = milvus_client.search(\n",
    "    collection_name=collection_name,\n",
    "    data=embedding_model.encode_queries(\n",
    "        [question]\n",
    "    ),  # 将问题转换为嵌入向量\n",
    "    limit=3,  # 返回前3个结果\n",
    "    search_params={\"metric_type\": \"IP\", \"params\": {}},  # 内积距离\n",
    "    output_fields=[\"text\"],  # 返回 text 字段\n",
    ")"
   ]
  },
  {
   "cell_type": "markdown",
   "id": "ffcce135",
   "metadata": {},
   "source": [
    "让我们看一下查询的搜索结果"
   ]
  },
  {
   "cell_type": "code",
   "execution_count": 27,
   "id": "6a7f6eb3",
   "metadata": {},
   "outputs": [
    {
     "name": "stdout",
     "output_type": "stream",
     "text": [
      "[\n",
      "    [\n",
      "        \"Is Milvus available for concurrent search?\\n\\nYes. For queries on the same collection, Milvus concurrently searches the incremental and historical data. However, queries on different collections are conducted in series. Whereas the historical data can be an extremely huge dataset, searches on the historical data are relatively more time-consuming and essentially performed in series.\\n\\n###\",\n",
      "        0.6256413459777832\n",
      "    ],\n",
      "    [\n",
      "        \"Does Milvus support inserting and searching data simultaneously?\\n\\nYes. Insert operations and query operations are handled by two separate modules that are mutually independent. From the client\\u2019s perspective, an insert operation is complete when the inserted data enters the message queue. However, inserted data are unsearchable until they are loaded to the query node. If the segment size does not reach the index-building threshold (512 MB by default), Milvus resorts to brute-force search and query performance may be diminished.\\n\\n###\",\n",
      "        0.6108709573745728\n",
      "    ],\n",
      "    [\n",
      "        \"What's the difference between a search and a query?\\n\\nIn Milvus, a vector similarity search retrieves vectors based on similarity calculation and vector index acceleration. Unlike a vector similarity search, a vector query retrieves vectors via scalar filtering based on a boolean expression. The boolean expression filters on scalar fields or the primary key field, and it retrieves all results that match the filters. In a query, neither similarity metrics nor vector index is involved.\\n\\n###\",\n",
      "        0.5962908267974854\n",
      "    ]\n",
      "]\n"
     ]
    }
   ],
   "source": [
    "import json\n",
    "\n",
    "retrieved_lines_with_distances = [\n",
    "    (res[\"entity\"][\"text\"], res[\"distance\"]) for res in search_res[0]\n",
    "]\n",
    "print(json.dumps(retrieved_lines_with_distances, indent=4))"
   ]
  },
  {
   "cell_type": "markdown",
   "id": "ccd4c186",
   "metadata": {},
   "source": [
    "### 使用 LLM 获取 RAG 响应"
   ]
  },
  {
   "cell_type": "markdown",
   "id": "4cd1ae3a",
   "metadata": {},
   "source": [
    "将检索到的文档转换为字符串格式。"
   ]
  },
  {
   "cell_type": "code",
   "execution_count": 28,
   "id": "0676448f",
   "metadata": {},
   "outputs": [],
   "source": [
    "context = \"\\n\".join(\n",
    "    [line_with_distance[0] for line_with_distance in retrieved_lines_with_distances]\n",
    ")"
   ]
  },
  {
   "cell_type": "code",
   "execution_count": 29,
   "id": "107df42a-b3f7-48a8-b66b-fc82fe3ec174",
   "metadata": {},
   "outputs": [
    {
     "data": {
      "text/plain": [
       "\"Is Milvus available for concurrent search?\\n\\nYes. For queries on the same collection, Milvus concurrently searches the incremental and historical data. However, queries on different collections are conducted in series. Whereas the historical data can be an extremely huge dataset, searches on the historical data are relatively more time-consuming and essentially performed in series.\\n\\n###\\nDoes Milvus support inserting and searching data simultaneously?\\n\\nYes. Insert operations and query operations are handled by two separate modules that are mutually independent. From the client’s perspective, an insert operation is complete when the inserted data enters the message queue. However, inserted data are unsearchable until they are loaded to the query node. If the segment size does not reach the index-building threshold (512 MB by default), Milvus resorts to brute-force search and query performance may be diminished.\\n\\n###\\nWhat's the difference between a search and a query?\\n\\nIn Milvus, a vector similarity search retrieves vectors based on similarity calculation and vector index acceleration. Unlike a vector similarity search, a vector query retrieves vectors via scalar filtering based on a boolean expression. The boolean expression filters on scalar fields or the primary key field, and it retrieves all results that match the filters. In a query, neither similarity metrics nor vector index is involved.\\n\\n###\""
      ]
     },
     "execution_count": 29,
     "metadata": {},
     "output_type": "execute_result"
    }
   ],
   "source": [
    "context"
   ]
  },
  {
   "cell_type": "code",
   "execution_count": 30,
   "id": "19998758-7f98-4cb8-8789-625fcfaad00e",
   "metadata": {},
   "outputs": [
    {
     "data": {
      "text/plain": [
       "'The principle of data querying in the Milvus database?'"
      ]
     },
     "execution_count": 30,
     "metadata": {},
     "output_type": "execute_result"
    }
   ],
   "source": [
    "question"
   ]
  },
  {
   "cell_type": "markdown",
   "id": "7ad25756",
   "metadata": {},
   "source": [
    "为语言模型定义系统和用户提示。此提示是使用从 Milvus 检索到的文档组装而成的。"
   ]
  },
  {
   "cell_type": "code",
   "execution_count": 31,
   "id": "b655f6f3",
   "metadata": {},
   "outputs": [],
   "source": [
    "SYSTEM_PROMPT = \"\"\"\n",
    "Human: 你是一个 AI 助手。你能够从提供的上下文段落片段中找到问题的答案。\n",
    "\"\"\"\n",
    "USER_PROMPT = f\"\"\"\n",
    "请使用以下用 <context> 标签括起来的信息片段来回答用 <question> 标签括起来的问题。最后追加原始回答的中文翻译，并用 <translated>和</translated> 标签标注。\n",
    "<context>\n",
    "{context}\n",
    "</context>\n",
    "<question>\n",
    "{question}\n",
    "</question>\n",
    "<translated>\n",
    "</translated>\n",
    "\"\"\""
   ]
  },
  {
   "cell_type": "code",
   "execution_count": 32,
   "id": "97089c31-f85c-47a9-8498-78520513bc67",
   "metadata": {},
   "outputs": [
    {
     "data": {
      "text/plain": [
       "\"\\n请使用以下用 <context> 标签括起来的信息片段来回答用 <question> 标签括起来的问题。最后追加原始回答的中文翻译，并用 <translated>和</translated> 标签标注。\\n<context>\\nIs Milvus available for concurrent search?\\n\\nYes. For queries on the same collection, Milvus concurrently searches the incremental and historical data. However, queries on different collections are conducted in series. Whereas the historical data can be an extremely huge dataset, searches on the historical data are relatively more time-consuming and essentially performed in series.\\n\\n###\\nDoes Milvus support inserting and searching data simultaneously?\\n\\nYes. Insert operations and query operations are handled by two separate modules that are mutually independent. From the client’s perspective, an insert operation is complete when the inserted data enters the message queue. However, inserted data are unsearchable until they are loaded to the query node. If the segment size does not reach the index-building threshold (512 MB by default), Milvus resorts to brute-force search and query performance may be diminished.\\n\\n###\\nWhat's the difference between a search and a query?\\n\\nIn Milvus, a vector similarity search retrieves vectors based on similarity calculation and vector index acceleration. Unlike a vector similarity search, a vector query retrieves vectors via scalar filtering based on a boolean expression. The boolean expression filters on scalar fields or the primary key field, and it retrieves all results that match the filters. In a query, neither similarity metrics nor vector index is involved.\\n\\n###\\n</context>\\n<question>\\nThe principle of data querying in the Milvus database?\\n</question>\\n<translated>\\n</translated>\\n\""
      ]
     },
     "execution_count": 32,
     "metadata": {},
     "output_type": "execute_result"
    }
   ],
   "source": [
    "USER_PROMPT"
   ]
  },
  {
   "cell_type": "markdown",
   "id": "184b457f",
   "metadata": {},
   "source": [
    "使用 DeepSeek 提供的 `deepseek-chat` 模型根据提示生成响应。"
   ]
  },
  {
   "cell_type": "code",
   "execution_count": 33,
   "id": "638a7561",
   "metadata": {},
   "outputs": [
    {
     "name": "stdout",
     "output_type": "stream",
     "text": [
      "Milvus supports both vector similarity search and vector query operations. For vector similarity search, it retrieves vectors based on similarity calculation with vector index acceleration. For vector query, it retrieves vectors via scalar filtering using boolean expressions on scalar or primary key fields without involving similarity metrics or vector indexes. Concurrent search is supported on the same collection (searching incremental and historical data simultaneously), while queries on different collections are conducted in series. Insert and search operations can be performed simultaneously as they are handled by independent modules, though newly inserted data becomes searchable only after being loaded to the query node.\n",
      "\n",
      "<translated>\n",
      "Milvus支持向量相似性搜索和向量查询两种操作。对于向量相似性搜索，它基于相似性计算并通过向量索引加速来检索向量。对于向量查询，它通过布尔表达式对标量字段或主键字段进行标量过滤来检索向量，不涉及相似性度量或向量索引。在同一集合上支持并发搜索（同时搜索增量和历史数据），而不同集合的查询则串行执行。插入和搜索操作可以同时进行，因为它们由独立的模块处理，但新插入的数据只有在加载到查询节点后才可搜索。\n",
      "</translated>\n"
     ]
    }
   ],
   "source": [
    "response = deepseek_client.chat.completions.create(\n",
    "    model=\"deepseek-chat\",\n",
    "    messages=[\n",
    "        {\"role\": \"system\", \"content\": SYSTEM_PROMPT},\n",
    "        {\"role\": \"user\", \"content\": USER_PROMPT},\n",
    "    ],\n",
    ")\n",
    "print(response.choices[0].message.content)"
   ]
  },
  {
   "cell_type": "markdown",
   "id": "80c0ef85",
   "metadata": {},
   "source": [
    "# 提出两个民法典相关问题\n"
   ]
  },
  {
   "cell_type": "code",
   "execution_count": 46,
   "id": "50ce3b55-7daa-4727-95bd-3b00f6aa2b03",
   "metadata": {},
   "outputs": [],
   "source": [
    "import json\n",
    "\n",
    "def search_context_to_llm(question, milvus_client, deepseek_client):\n",
    "    search_res = milvus_client.search(\n",
    "        collection_name=collection_name,\n",
    "        data=embedding_model.encode_queries(\n",
    "            [question]\n",
    "        ),  # 将问题转换为嵌入向量\n",
    "        limit=3,  # 返回前3个结果\n",
    "        search_params={\"metric_type\": \"IP\", \"params\": {}},  # 内积距离\n",
    "        output_fields=[\"text\"],  # 返回 text 字段\n",
    "    )\n",
    "    retrieved_lines_with_distances = [\n",
    "        (res[\"entity\"][\"text\"], res[\"distance\"]) for res in search_res[0]\n",
    "    ]\n",
    "    print(json.dumps(retrieved_lines_with_distances, indent=4))\n",
    "\n",
    "    context = \"\\n\".join(\n",
    "        [line_with_distance[0] for line_with_distance in retrieved_lines_with_distances]\n",
    "    )\n",
    "\n",
    "    print(\"question:\\n\", question, '\\n')\n",
    "    print(\"context:\\n\", context, '\\n')\n",
    "    SYSTEM_PROMPT = \"\"\"\n",
    "    Human: 你是一个 AI 助手。你能够从提供的上下文段落片段中找到问题的答案。\n",
    "    \"\"\"\n",
    "    USER_PROMPT = f\"\"\"\n",
    "    请使用以下用 <context> 标签括起来的信息片段来回答用 <question> 标签括起来的问题。最后追加原始回答的中文翻译，并用 <translated>和</translated> 标签标注。\n",
    "    <context>\n",
    "    {context}\n",
    "    </context>\n",
    "    <question>\n",
    "    {question}\n",
    "    </question>\n",
    "    <translated>\n",
    "    </translated>\n",
    "    \"\"\"\n",
    "    response = deepseek_client.chat.completions.create(\n",
    "        model=\"deepseek-chat\",\n",
    "        messages=[\n",
    "            {\"role\": \"system\", \"content\": SYSTEM_PROMPT},\n",
    "            {\"role\": \"user\", \"content\": USER_PROMPT},\n",
    "        ],\n",
    "    )\n",
    "    print(response.choices[0].message.content)"
   ]
  },
  {
   "cell_type": "code",
   "execution_count": 47,
   "id": "90210512",
   "metadata": {},
   "outputs": [
    {
     "name": "stdout",
     "output_type": "stream",
     "text": [
      "[\n",
      "    [\n",
      "        \"\\u4e8c\\u3001\\u6743\\u5229\\u8d28\\u6743\\n\\n**\\u7b2c\\u56db\\u767e\\u56db\\u5341\\u4e5d\\u6761** \\u53ef\\u4ee5\\u51fa\\u8d28\\u7684\\u6743\\u5229\\u5305\\u62ec\\uff1a\\n\\uff08\\u4e00\\uff09\\u6c47\\u7968\\u3001\\u672c\\u7968\\u3001\\u652f\\u7968\\uff1b\\n\\uff08\\u4e8c\\uff09\\u503a\\u5238\\u3001\\u5b58\\u6b3e\\u5355\\uff1b\\n\\uff08\\u4e09\\uff09\\u4ed3\\u5355\\u3001\\u63d0\\u5355\\uff1b\\n\\uff08\\u56db\\uff09\\u53ef\\u4ee5\\u8f6c\\u8ba9\\u7684\\u57fa\\u91d1\\u4efd\\u989d\\u3001\\u80a1\\u6743\\uff1b\\n\\uff08\\u4e94\\uff09\\u53ef\\u4ee5\\u8f6c\\u8ba9\\u7684\\u6ce8\\u518c\\u5546\\u6807\\u4e13\\u7528\\u6743\\u3001\\u4e13\\u5229\\u6743\\u3001\\u8457\\u4f5c\\u6743\\u7b49\\u77e5\\u8bc6\\u4ea7\\u6743\\u4e2d\\u7684\\u8d22\\u4ea7\\u6743\\uff1b\\n\\uff08\\u516d\\uff09\\u5e94\\u6536\\u8d26\\u6b3e\\uff1b\\n\\uff08\\u4e03\\uff09\\u6cd5\\u5f8b\\u3001\\u884c\\u653f\\u6cd5\\u89c4\\u89c4\\u5b9a\\u53ef\\u4ee5\\u51fa\\u8d28\\u7684\\u5176\\u4ed6\\u8d22\\u4ea7\\u6743\\u5229\\u3002\\n\\n**\\u7b2c\\u56db\\u767e\\u4e94\\u5341\\u6761** \\u4ee5\\u6c47\\u7968\\u3001\\u672c\\u7968\\u3001\\u652f\\u7968\\u3001\\u503a\\u5238\\u3001\\u5b58\\u6b3e\\u5355\\u3001\\u4ed3\\u5355\\u3001\\u63d0\\u5355\\u51fa\\u8d28\\u7684\\uff0c\\u5f53\\u4e8b\\u4eba\\u5e94\\u5f53\\u8ba2\\u7acb\\u4e66\\u9762\\u5408\\u540c\\u3002\\u8d28\\u6743\\u81ea\\u6743\\u5229\\u51ed\\u8bc1\\u4ea4\\u4ed8\\u4e4b\\u65e5\\u8d77\\u8bbe\\u7acb\\u3002\\n\\n**\\u7b2c\\u56db\\u767e\\u4e94\\u5341\\u4e00\\u6761** \\u4ee5\\u8bb0\\u540d\\u80a1\\u7968\\u51fa\\u8d28\\u7684\\uff0c\\u5f53\\u4e8b\\u4eba\\u5e94\\u5f53\\u8ba2\\u7acb\\u4e66\\u9762\\u5408\\u540c\\u3002\\u8d28\\u6743\\u81ea\\u80a1\\u7968\\u4ea4\\u4ed8\\u4e4b\\u65e5\\u8d77\\u8bbe\\u7acb\\u3002\\n\\u4ee5\\u672a\\u4e0a\\u5e02\\u516c\\u53f8\\u80a1\\u6743\\u51fa\\u8d28\\u7684\\uff0c\\u9002\\u7528\\u516c\\u53f8\\u6cd5\\u6709\\u5173\\u80a1\\u6743\\u8f6c\\u8ba9\\u7684\\u89c4\\u5b9a\\u3002\\n\\n**\\u7b2c\\u56db\\u767e\\u4e94\\u5341\\u4e8c\\u6761** \\u4ee5\\u53ef\\u4ee5\\u8f6c\\u8ba9\\u7684\\u57fa\\u91d1\\u4efd\\u989d\\u3001\\u80a1\\u6743\\u51fa\\u8d28\\u7684\\uff0c\\u5f53\\u4e8b\\u4eba\\u5e94\\u5f53\\u8ba2\\u7acb\\u4e66\\u9762\\u5408\\u540c\\u3002\\u8d28\\u6743\\u81ea\\u57fa\\u91d1\\u4efd\\u989d\\u3001\\u80a1\\u6743\\u767b\\u8bb0\\u4e8e\\u8bc1\\u5238\\u767b\\u8bb0\\u7ed3\\u7b97\\u673a\\u6784\\u6216\\u8005\\u516c\\u53f8\\u7ae0\\u7a0b\\u8f7d\\u660e\\u7684\\u80a1\\u6743\\u767b\\u8bb0\\u7c3f\\u65f6\\u8bbe\\u7acb\\u3002\\n\\u4ee5\\u672a\\u4e0a\\u5e02\\u516c\\u53f8\\u80a1\\u6743\\u51fa\\u8d28\\u7684\\uff0c\\u9002\\u7528\\u516c\\u53f8\\u6cd5\\u6709\\u5173\\u80a1\\u6743\\u8f6c\\u8ba9\\u7684\\u89c4\\u5b9a\\u3002\\n\\n**\\u7b2c\\u56db\\u767e\\u4e94\\u5341\\u4e09\\u6761** \\u4ee5\\u53ef\\u4ee5\\u8f6c\\u8ba9\\u7684\\u6ce8\\u518c\\u5546\\u6807\\u4e13\\u7528\\u6743\\u3001\\u4e13\\u5229\\u6743\\u3001\\u8457\\u4f5c\\u6743\\u7b49\\u77e5\\u8bc6\\u4ea7\\u6743\\u4e2d\\u7684\\u8d22\\u4ea7\\u6743\\u51fa\\u8d28\\u7684\\uff0c\\u5f53\\u4e8b\\u4eba\\u5e94\\u5f53\\u8ba2\\u7acb\\u4e66\\u9762\\u5408\\u540c\\u3002\\u8d28\\u6743\\u81ea\\u6743\\u5229\\u8d28\\u62bc\\u767b\\u8bb0\\u4e8e\\u76f8\\u5173\\u90e8\\u95e8\\u65f6\\u8bbe\\u7acb\\u3002\\n\\n**\\u7b2c\\u56db\\u767e\\u4e94\\u5341\\u56db\\u6761** \\u4ee5\\u5e94\\u6536\\u8d26\\u6b3e\\u51fa\\u8d28\\u7684\\uff0c\\u5f53\\u4e8b\\u4eba\\u5e94\\u5f53\\u8ba2\\u7acb\\u4e66\\u9762\\u5408\\u540c\\u3002\\u8d28\\u6743\\u81ea\\u5e94\\u6536\\u8d26\\u6b3e\\u8d28\\u62bc\\u767b\\u8bb0\\u4e8e\\u4e2d\\u56fd\\u4eba\\u6c11\\u94f6\\u884c\\u5f81\\u4fe1\\u4e2d\\u5fc3\\u65f6\\u8bbe\\u7acb\\u3002\\n\\n**\\u7b2c\\u56db\\u767e\\u4e94\\u5341\\u4e94\\u6761** \\u4ee5\\u6cd5\\u5f8b\\u3001\\u884c\\u653f\\u6cd5\\u89c4\\u89c4\\u5b9a\\u53ef\\u4ee5\\u51fa\\u8d28\\u7684\\u5176\\u4ed6\\u8d22\\u4ea7\\u6743\\u5229\\u51fa\\u8d28\\u7684\\uff0c\\u4f9d\\u7167\\u6cd5\\u5f8b\\u3001\\u884c\\u653f\\u6cd5\\u89c4\\u7684\\u89c4\\u5b9a\\u3002\\n\\n**\\u7b2c\\u56db\\u767e\\u4e94\\u5341\\u516d\\u6761** \\u6743\\u5229\\u8d28\\u6743\\u9664\\u9002\\u7528\\u672c\\u8282\\u89c4\\u5b9a\\u5916\\uff0c\\u53c2\\u7167\\u9002\\u7528\\u672c\\u7ae0\\u52a8\\u4ea7\\u8d28\\u6743\\u7684\\u6709\\u5173\\u89c4\\u5b9a\\u3002\\n\\n####\",\n",
      "        0.6793739199638367\n",
      "    ],\n",
      "    [\n",
      "        \"\\u7b2c\\u4e09\\u7ae0 \\u5408\\u540c\\u7684\\u53d8\\u66f4\\u548c\\u8f6c\\u8ba9\\n\\n**\\u7b2c\\u4e94\\u767e\\u56db\\u5341\\u516b\\u6761** \\u5f53\\u4e8b\\u4eba\\u534f\\u5546\\u4e00\\u81f4\\uff0c\\u53ef\\u4ee5\\u53d8\\u66f4\\u5408\\u540c\\u3002\\n\\n**\\u7b2c\\u4e94\\u767e\\u56db\\u5341\\u4e5d\\u6761** \\u5f53\\u4e8b\\u4eba\\u5bf9\\u5408\\u540c\\u53d8\\u66f4\\u7684\\u5185\\u5bb9\\u7ea6\\u5b9a\\u4e0d\\u660e\\u786e\\u7684\\uff0c\\u63a8\\u5b9a\\u4e3a\\u672a\\u53d8\\u66f4\\u3002\\n\\n**\\u7b2c\\u4e94\\u767e\\u4e94\\u5341\\u6761** \\u503a\\u6743\\u4eba\\u53ef\\u4ee5\\u5c06\\u5408\\u540c\\u7684\\u6743\\u5229\\u5168\\u90e8\\u6216\\u8005\\u90e8\\u5206\\u8f6c\\u8ba9\\u7ed9\\u7b2c\\u4e09\\u4eba\\uff0c\\u4f46\\u662f\\u6709\\u4e0b\\u5217\\u60c5\\u5f62\\u4e4b\\u4e00\\u7684\\u9664\\u5916\\uff1a\\n\\uff08\\u4e00\\uff09\\u6839\\u636e\\u5408\\u540c\\u6027\\u8d28\\u4e0d\\u5f97\\u8f6c\\u8ba9\\uff1b\\n\\uff08\\u4e8c\\uff09\\u6309\\u7167\\u5f53\\u4e8b\\u4eba\\u7ea6\\u5b9a\\u4e0d\\u5f97\\u8f6c\\u8ba9\\uff1b\\n\\uff08\\u4e09\\uff09\\u4f9d\\u7167\\u6cd5\\u5f8b\\u89c4\\u5b9a\\u4e0d\\u5f97\\u8f6c\\u8ba9\\u3002\\n\\u503a\\u6743\\u4eba\\u8f6c\\u8ba9\\u6743\\u5229\\u7684\\uff0c\\u5e94\\u5f53\\u901a\\u77e5\\u503a\\u52a1\\u4eba\\u3002\\u672a\\u7ecf\\u901a\\u77e5\\uff0c\\u8be5\\u8f6c\\u8ba9\\u5bf9\\u503a\\u52a1\\u4eba\\u4e0d\\u53d1\\u751f\\u6548\\u529b\\u3002\\n\\n**\\u7b2c\\u4e94\\u767e\\u4e94\\u5341\\u4e00\\u6761** \\u503a\\u6743\\u4eba\\u8f6c\\u8ba9\\u6743\\u5229\\u7684\\uff0c\\u53d7\\u8ba9\\u4eba\\u53d6\\u5f97\\u4e0e\\u503a\\u6743\\u6709\\u5173\\u7684\\u4ece\\u6743\\u5229\\uff0c\\u4f46\\u662f\\u8be5\\u4ece\\u6743\\u5229\\u4e13\\u5c5e\\u4e8e\\u503a\\u6743\\u4eba\\u81ea\\u8eab\\u7684\\u9664\\u5916\\u3002\\n\\n**\\u7b2c\\u4e94\\u767e\\u4e94\\u5341\\u4e8c\\u6761** \\u503a\\u52a1\\u4eba\\u5c06\\u5408\\u540c\\u7684\\u4e49\\u52a1\\u5168\\u90e8\\u6216\\u8005\\u90e8\\u5206\\u8f6c\\u8ba9\\u7ed9\\u7b2c\\u4e09\\u4eba\\u7684\\uff0c\\u5e94\\u5f53\\u7ecf\\u503a\\u6743\\u4eba\\u540c\\u610f\\u3002\\n\\n**\\u7b2c\\u4e94\\u767e\\u4e94\\u5341\\u4e09\\u6761** \\u503a\\u52a1\\u4eba\\u8f6c\\u8ba9\\u4e49\\u52a1\\u7684\\uff0c\\u65b0\\u503a\\u52a1\\u4eba\\u53ef\\u4ee5\\u4e3b\\u5f20\\u539f\\u503a\\u52a1\\u4eba\\u5bf9\\u503a\\u6743\\u4eba\\u7684\\u6297\\u8fa9\\u3002\\n\\u65b0\\u503a\\u52a1\\u4eba\\u627f\\u62c5\\u503a\\u52a1\\u7684\\uff0c\\u5e94\\u5f53\\u627f\\u62c5\\u4e0e\\u4e3b\\u503a\\u52a1\\u6709\\u5173\\u7684\\u4ece\\u503a\\u52a1\\uff0c\\u4f46\\u662f\\u8be5\\u4ece\\u503a\\u52a1\\u4e13\\u5c5e\\u4e8e\\u539f\\u503a\\u52a1\\u4eba\\u81ea\\u8eab\\u7684\\u9664\\u5916\\u3002\\n\\n**\\u7b2c\\u4e94\\u767e\\u4e94\\u5341\\u56db\\u6761** \\u5f53\\u4e8b\\u4eba\\u4e00\\u65b9\\u7ecf\\u5bf9\\u65b9\\u540c\\u610f\\uff0c\\u53ef\\u4ee5\\u5c06\\u81ea\\u5df1\\u5728\\u5408\\u540c\\u4e2d\\u7684\\u6743\\u5229\\u548c\\u4e49\\u52a1\\u4e00\\u5e76\\u8f6c\\u8ba9\\u7ed9\\u7b2c\\u4e09\\u4eba\\u3002\\n\\n**\\u7b2c\\u4e94\\u767e\\u4e94\\u5341\\u4e94\\u6761** \\u6743\\u5229\\u548c\\u4e49\\u52a1\\u4e00\\u5e76\\u8f6c\\u8ba9\\u7684\\uff0c\\u9002\\u7528\\u503a\\u6743\\u8f6c\\u8ba9\\u3001\\u503a\\u52a1\\u8f6c\\u8ba9\\u7684\\u6709\\u5173\\u89c4\\u5b9a\\u3002\\n\\n**\\u7b2c\\u4e94\\u767e\\u4e94\\u5341\\u516d\\u6761** \\u5408\\u540c\\u53d8\\u66f4\\u7684\\uff0c\\u4e0d\\u5f71\\u54cd\\u5f53\\u4e8b\\u4eba\\u8bf7\\u6c42\\u635f\\u5bb3\\u8d54\\u507f\\u7684\\u6743\\u5229\\u3002\\n\\n###\",\n",
      "        0.6634564995765686\n",
      "    ],\n",
      "    [\n",
      "        \"\\u7b2c\\u4e94\\u8282 \\u5c45\\u4f4f\\u6743\\n\\n**\\u7b2c\\u4e09\\u767e\\u516b\\u5341\\u4e8c\\u6761** \\u5c45\\u4f4f\\u6743\\u4eba\\u6709\\u6743\\u4f9d\\u7167\\u5408\\u540c\\u7ea6\\u5b9a\\u6216\\u8005\\u9057\\u5631\\uff0c\\u5bf9\\u4ed6\\u4eba\\u7684\\u4f4f\\u5b85\\u4eab\\u6709\\u5360\\u6709\\u3001\\u4f7f\\u7528\\u7684\\u6743\\u5229\\uff0c\\u4ee5\\u6ee1\\u8db3\\u751f\\u6d3b\\u5c45\\u4f4f\\u7684\\u9700\\u8981\\u3002\\n\\n**\\u7b2c\\u4e09\\u767e\\u516b\\u5341\\u4e09\\u6761** \\u8bbe\\u7acb\\u5c45\\u4f4f\\u6743\\uff0c\\u5f53\\u4e8b\\u4eba\\u5e94\\u5f53\\u4f9d\\u7167\\u6cd5\\u5f8b\\u89c4\\u5b9a\\u529e\\u7406\\u767b\\u8bb0\\u3002\\n\\u672a\\u7ecf\\u767b\\u8bb0\\uff0c\\u4e0d\\u53d1\\u751f\\u7269\\u6743\\u6548\\u529b\\u3002\\n\\n**\\u7b2c\\u4e09\\u767e\\u516b\\u5341\\u56db\\u6761** \\u5c45\\u4f4f\\u6743\\u4e0d\\u5f97\\u8f6c\\u8ba9\\u3001\\u7ee7\\u627f\\u3002\\n\\u8bbe\\u7acb\\u5c45\\u4f4f\\u6743\\u7684\\u4f4f\\u5b85\\u4e0d\\u5f97\\u51fa\\u79df\\uff0c\\u4f46\\u662f\\u5f53\\u4e8b\\u4eba\\u53e6\\u6709\\u7ea6\\u5b9a\\u7684\\u9664\\u5916\\u3002\\n\\n**\\u7b2c\\u4e09\\u767e\\u516b\\u5341\\u4e94\\u6761** \\u5c45\\u4f4f\\u6743\\u671f\\u95f4\\u5c4a\\u6ee1\\u6216\\u8005\\u5c45\\u4f4f\\u6743\\u4eba\\u6b7b\\u4ea1\\u7684\\uff0c\\u5c45\\u4f4f\\u6743\\u6d88\\u706d\\u3002\\n\\u5c45\\u4f4f\\u6743\\u6d88\\u706d\\u7684\\uff0c\\u767b\\u8bb0\\u673a\\u6784\\u5e94\\u5f53\\u4f9d\\u6cd5\\u529e\\u7406\\u6ce8\\u9500\\u767b\\u8bb0\\u3002\\n\\n**\\u7b2c\\u4e09\\u767e\\u516b\\u5341\\u516d\\u6761** \\u5c45\\u4f4f\\u6743\\u4eba\\u6709\\u6743\\u5bf9\\u5c45\\u4f4f\\u6743\\u7684\\u4f4f\\u5b85\\u8fdb\\u884c\\u7ef4\\u4fee\\u3001\\u517b\\u62a4\\uff0c\\u4f46\\u4e0d\\u5f97\\u6539\\u53d8\\u4f4f\\u5b85\\u7684\\u7528\\u9014\\u3002\\n\\u5c45\\u4f4f\\u6743\\u4eba\\u5bf9\\u5c45\\u4f4f\\u6743\\u7684\\u4f4f\\u5b85\\u4eab\\u6709\\u5360\\u6709\\u3001\\u4f7f\\u7528\\u7684\\u6743\\u5229\\u3002\\n\\n**\\u7b2c\\u4e09\\u767e\\u516b\\u5341\\u4e03\\u6761** \\u5c45\\u4f4f\\u6743\\u4eba\\u6709\\u6743\\u4f9d\\u7167\\u5408\\u540c\\u7ea6\\u5b9a\\u6216\\u8005\\u9057\\u5631\\uff0c\\u5bf9\\u4ed6\\u4eba\\u7684\\u4f4f\\u5b85\\u4eab\\u6709\\u5360\\u6709\\u3001\\u4f7f\\u7528\\u7684\\u6743\\u5229\\uff0c\\u4ee5\\u6ee1\\u8db3\\u751f\\u6d3b\\u5c45\\u4f4f\\u7684\\u9700\\u8981\\u3002\\n\\n####\",\n",
      "        0.6538882255554199\n",
      "    ]\n",
      "]\n",
      "question:\n",
      " 私有知识文档共享给集体后，再商业化进行牟利的行为违法吗？如果有违法，违反了哪条民法典？ \n",
      "\n",
      "context:\n",
      " 二、权利质权\n",
      "\n",
      "**第四百四十九条** 可以出质的权利包括：\n",
      "（一）汇票、本票、支票；\n",
      "（二）债券、存款单；\n",
      "（三）仓单、提单；\n",
      "（四）可以转让的基金份额、股权；\n",
      "（五）可以转让的注册商标专用权、专利权、著作权等知识产权中的财产权；\n",
      "（六）应收账款；\n",
      "（七）法律、行政法规规定可以出质的其他财产权利。\n",
      "\n",
      "**第四百五十条** 以汇票、本票、支票、债券、存款单、仓单、提单出质的，当事人应当订立书面合同。质权自权利凭证交付之日起设立。\n",
      "\n",
      "**第四百五十一条** 以记名股票出质的，当事人应当订立书面合同。质权自股票交付之日起设立。\n",
      "以未上市公司股权出质的，适用公司法有关股权转让的规定。\n",
      "\n",
      "**第四百五十二条** 以可以转让的基金份额、股权出质的，当事人应当订立书面合同。质权自基金份额、股权登记于证券登记结算机构或者公司章程载明的股权登记簿时设立。\n",
      "以未上市公司股权出质的，适用公司法有关股权转让的规定。\n",
      "\n",
      "**第四百五十三条** 以可以转让的注册商标专用权、专利权、著作权等知识产权中的财产权出质的，当事人应当订立书面合同。质权自权利质押登记于相关部门时设立。\n",
      "\n",
      "**第四百五十四条** 以应收账款出质的，当事人应当订立书面合同。质权自应收账款质押登记于中国人民银行征信中心时设立。\n",
      "\n",
      "**第四百五十五条** 以法律、行政法规规定可以出质的其他财产权利出质的，依照法律、行政法规的规定。\n",
      "\n",
      "**第四百五十六条** 权利质权除适用本节规定外，参照适用本章动产质权的有关规定。\n",
      "\n",
      "####\n",
      "第三章 合同的变更和转让\n",
      "\n",
      "**第五百四十八条** 当事人协商一致，可以变更合同。\n",
      "\n",
      "**第五百四十九条** 当事人对合同变更的内容约定不明确的，推定为未变更。\n",
      "\n",
      "**第五百五十条** 债权人可以将合同的权利全部或者部分转让给第三人，但是有下列情形之一的除外：\n",
      "（一）根据合同性质不得转让；\n",
      "（二）按照当事人约定不得转让；\n",
      "（三）依照法律规定不得转让。\n",
      "债权人转让权利的，应当通知债务人。未经通知，该转让对债务人不发生效力。\n",
      "\n",
      "**第五百五十一条** 债权人转让权利的，受让人取得与债权有关的从权利，但是该从权利专属于债权人自身的除外。\n",
      "\n",
      "**第五百五十二条** 债务人将合同的义务全部或者部分转让给第三人的，应当经债权人同意。\n",
      "\n",
      "**第五百五十三条** 债务人转让义务的，新债务人可以主张原债务人对债权人的抗辩。\n",
      "新债务人承担债务的，应当承担与主债务有关的从债务，但是该从债务专属于原债务人自身的除外。\n",
      "\n",
      "**第五百五十四条** 当事人一方经对方同意，可以将自己在合同中的权利和义务一并转让给第三人。\n",
      "\n",
      "**第五百五十五条** 权利和义务一并转让的，适用债权转让、债务转让的有关规定。\n",
      "\n",
      "**第五百五十六条** 合同变更的，不影响当事人请求损害赔偿的权利。\n",
      "\n",
      "###\n",
      "第五节 居住权\n",
      "\n",
      "**第三百八十二条** 居住权人有权依照合同约定或者遗嘱，对他人的住宅享有占有、使用的权利，以满足生活居住的需要。\n",
      "\n",
      "**第三百八十三条** 设立居住权，当事人应当依照法律规定办理登记。\n",
      "未经登记，不发生物权效力。\n",
      "\n",
      "**第三百八十四条** 居住权不得转让、继承。\n",
      "设立居住权的住宅不得出租，但是当事人另有约定的除外。\n",
      "\n",
      "**第三百八十五条** 居住权期间届满或者居住权人死亡的，居住权消灭。\n",
      "居住权消灭的，登记机构应当依法办理注销登记。\n",
      "\n",
      "**第三百八十六条** 居住权人有权对居住权的住宅进行维修、养护，但不得改变住宅的用途。\n",
      "居住权人对居住权的住宅享有占有、使用的权利。\n",
      "\n",
      "**第三百八十七条** 居住权人有权依照合同约定或者遗嘱，对他人的住宅享有占有、使用的权利，以满足生活居住的需要。\n",
      "\n",
      "#### \n",
      "\n",
      "根据提供的上下文信息，私有知识文档（如涉及著作权等知识产权）共享给集体后商业化牟利的行为可能涉及违法，具体取决于是否未经权利质权人或知识产权权利人的授权。如果该行为未经许可转让或出质了专属于权利人的财产权（如著作权中的财产权），则可能违反《中华人民共和国民法典》第四百五十三条，该条规定以知识产权中的财产权出质需订立书面合同，且质权自登记时设立，未经合法程序可能构成侵权。此外，如果涉及合同权利转让，还需参考第五百五十条等关于债权转让的规定，但核心违法点在于未经授权处置知识产权。\n",
      "\n",
      "需要注意的是，上下文主要聚焦于权利质权和合同转让，而非直接针对共享和商业化行为。因此，实际违法性还需结合具体案情和知识产权相关法律（如《著作权法》）综合判断，但民法典第四百五十三条提供了相关依据。\n",
      "\n",
      "<translated>\n",
      "根据提供的上下文信息，私有知识文档（如涉及著作权等知识产权）共享给集体后商业化牟利的行为可能违法，如果未经权利质权人或知识产权权利人的授权。具体可能违反《中华人民共和国民法典》第四百五十三条，该条规定以知识产权中的财产权出质需订立书面合同并登记，未经合法程序可能构成侵权。此外，还需参考合同转让相关条款（如第五百五十条），但核心在于未经授权处置知识产权。实际违法性需结合具体案情和其他法律综合判断。\n",
      "</translated>\n"
     ]
    }
   ],
   "source": [
    "question1 = \"私有知识文档共享给集体后，再商业化进行牟利的行为违法吗？如果有违法，违反了哪条民法典？\"\n",
    "search_context_to_llm(question1, milvus_client, deepseek_client)"
   ]
  },
  {
   "cell_type": "code",
   "execution_count": 48,
   "id": "52c753a4",
   "metadata": {},
   "outputs": [
    {
     "name": "stdout",
     "output_type": "stream",
     "text": [
      "[\n",
      "    [\n",
      "        \"Is Milvus available for concurrent search?\\n\\nYes. For queries on the same collection, Milvus concurrently searches the incremental and historical data. However, queries on different collections are conducted in series. Whereas the historical data can be an extremely huge dataset, searches on the historical data are relatively more time-consuming and essentially performed in series.\\n\\n###\",\n",
      "        0.6256413459777832\n",
      "    ],\n",
      "    [\n",
      "        \"Does Milvus support inserting and searching data simultaneously?\\n\\nYes. Insert operations and query operations are handled by two separate modules that are mutually independent. From the client\\u2019s perspective, an insert operation is complete when the inserted data enters the message queue. However, inserted data are unsearchable until they are loaded to the query node. If the segment size does not reach the index-building threshold (512 MB by default), Milvus resorts to brute-force search and query performance may be diminished.\\n\\n###\",\n",
      "        0.6108709573745728\n",
      "    ],\n",
      "    [\n",
      "        \"What's the difference between a search and a query?\\n\\nIn Milvus, a vector similarity search retrieves vectors based on similarity calculation and vector index acceleration. Unlike a vector similarity search, a vector query retrieves vectors via scalar filtering based on a boolean expression. The boolean expression filters on scalar fields or the primary key field, and it retrieves all results that match the filters. In a query, neither similarity metrics nor vector index is involved.\\n\\n###\",\n",
      "        0.5962908267974854\n",
      "    ]\n",
      "]\n",
      "question:\n",
      " The principle of data querying in the Milvus database? \n",
      "\n",
      "context:\n",
      " Is Milvus available for concurrent search?\n",
      "\n",
      "Yes. For queries on the same collection, Milvus concurrently searches the incremental and historical data. However, queries on different collections are conducted in series. Whereas the historical data can be an extremely huge dataset, searches on the historical data are relatively more time-consuming and essentially performed in series.\n",
      "\n",
      "###\n",
      "Does Milvus support inserting and searching data simultaneously?\n",
      "\n",
      "Yes. Insert operations and query operations are handled by two separate modules that are mutually independent. From the client’s perspective, an insert operation is complete when the inserted data enters the message queue. However, inserted data are unsearchable until they are loaded to the query node. If the segment size does not reach the index-building threshold (512 MB by default), Milvus resorts to brute-force search and query performance may be diminished.\n",
      "\n",
      "###\n",
      "What's the difference between a search and a query?\n",
      "\n",
      "In Milvus, a vector similarity search retrieves vectors based on similarity calculation and vector index acceleration. Unlike a vector similarity search, a vector query retrieves vectors via scalar filtering based on a boolean expression. The boolean expression filters on scalar fields or the primary key field, and it retrieves all results that match the filters. In a query, neither similarity metrics nor vector index is involved.\n",
      "\n",
      "### \n",
      "\n",
      "Milvus 的查询原理基于两种不同的操作模式：向量相似性搜索（search）和标量过滤查询（query）。向量相似性搜索通过向量索引加速和相似度计算来检索最相似的向量，而标量查询则通过布尔表达式对非向量字段（如标量字段或主键）进行过滤，返回所有匹配的结果，不涉及向量索引或相似度计算。对于同一集合，Milvus 支持并发搜索增量数据和历史数据，但不同集合的查询是串行执行的。插入和查询操作由独立模块处理，可同时进行，但新插入的数据需加载到查询节点后才可搜索。\n",
      "\n",
      "<translated>\n",
      "Milvus的查询原理基于两种不同的操作模式：向量相似性搜索（search）和标量过滤查询（query）。向量相似性搜索通过向量索引加速和相似度计算来检索最相似的向量，而标量查询则通过布尔表达式对非向量字段（如标量字段或主键）进行过滤，返回所有匹配的结果，不涉及向量索引或相似度计算。对于同一集合，Milvus支持并发搜索增量数据和历史数据，但不同集合的查询是串行执行的。插入和查询操作由独立模块处理，可同时进行，但新插入的数据需加载到查询节点后才可搜索。\n",
      "</translated>\n"
     ]
    }
   ],
   "source": [
    "question2 = \"路上捡到别人掉的东西，不进行归还，违法吗，如果违法，违反了哪条民法典？\"\n",
    "search_context_to_llm(question, milvus_client, deepseek_client)"
   ]
  }
 ],
 "metadata": {
  "kernelspec": {
   "display_name": "deepseek-quickstart",
   "language": "python",
   "name": "python3"
  },
  "language_info": {
   "codemirror_mode": {
    "name": "ipython",
    "version": 3
   },
   "file_extension": ".py",
   "mimetype": "text/x-python",
   "name": "python",
   "nbconvert_exporter": "python",
   "pygments_lexer": "ipython3",
   "version": "3.13.6"
  }
 },
 "nbformat": 4,
 "nbformat_minor": 5
}
